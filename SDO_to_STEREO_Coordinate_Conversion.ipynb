{
 "cells": [
  {
   "cell_type": "code",
   "execution_count": 1,
   "metadata": {
    "collapsed": false
   },
   "outputs": [],
   "source": [
    "%matplotlib inline"
   ]
  },
  {
   "cell_type": "markdown",
   "metadata": {},
   "source": [
    "\n",
    "# AIA to STEREO Coordinate Conversion\n",
    "\n",
    "\n",
    "In this example we demonstrate how you can identify a point or region on the\n",
    "surface of the Sun in an AIA image and then convert that point to a point in a\n",
    "STEREO image.\n",
    "\n",
    ".. note::\n",
    "    This example requires `WCSAxes` which is an optional SunPy dependency.\n",
    "\n"
   ]
  },
  {
   "cell_type": "code",
   "execution_count": 2,
   "metadata": {
    "collapsed": false
   },
   "outputs": [
    {
     "name": "stderr",
     "output_type": "stream",
     "text": [
      "C:\\Users\\Akared\\Anaconda\\lib\\site-packages\\glymur\\lib\\config.py:151: UserWarning: Neither the openjp2 nor the openjpeg library could be loaded.  \n",
      "  warnings.warn(msg)\n",
      "C:\\Users\\Akared\\Anaconda\\lib\\site-packages\\pandas\\computation\\__init__.py:19: UserWarning: The installed version of numexpr 2.4.4 is not supported in pandas and will be not be used\n",
      "\n",
      "  UserWarning)\n"
     ]
    },
    {
     "ename": "ImportError",
     "evalue": "No module named wcs_utils",
     "output_type": "error",
     "traceback": [
      "\u001b[1;31m---------------------------------------------------------------------------\u001b[0m",
      "\u001b[1;31mImportError\u001b[0m                               Traceback (most recent call last)",
      "\u001b[1;32m<ipython-input-2-ad6d9ddfa9ef>\u001b[0m in \u001b[0;36m<module>\u001b[1;34m()\u001b[0m\n\u001b[0;32m      7\u001b[0m \u001b[1;32mimport\u001b[0m \u001b[0msunpy\u001b[0m\u001b[1;33m.\u001b[0m\u001b[0mmap\u001b[0m\u001b[1;33m\u001b[0m\u001b[0m\n\u001b[0;32m      8\u001b[0m \u001b[1;32mimport\u001b[0m \u001b[0msunpy\u001b[0m\u001b[1;33m.\u001b[0m\u001b[0mcoordinates\u001b[0m\u001b[1;33m\u001b[0m\u001b[0m\n\u001b[1;32m----> 9\u001b[1;33m \u001b[1;32mimport\u001b[0m \u001b[0msunpy\u001b[0m\u001b[1;33m.\u001b[0m\u001b[0mcoordinates\u001b[0m\u001b[1;33m.\u001b[0m\u001b[0mwcs_utils\u001b[0m\u001b[1;33m\u001b[0m\u001b[0m\n\u001b[0m\u001b[0;32m     10\u001b[0m \u001b[1;32mfrom\u001b[0m \u001b[0msunpy\u001b[0m\u001b[1;33m.\u001b[0m\u001b[0mnet\u001b[0m \u001b[1;32mimport\u001b[0m \u001b[0mvso\u001b[0m\u001b[1;33m\u001b[0m\u001b[0m\n",
      "\u001b[1;31mImportError\u001b[0m: No module named wcs_utils"
     ]
    }
   ],
   "source": [
    "import matplotlib.pyplot as plt\n",
    "\n",
    "import astropy.units as u\n",
    "from astropy.coordinates import SkyCoord\n",
    "import wcsaxes\n",
    "\n",
    "import sunpy.map\n",
    "import sunpy.coordinates\n",
    "import sunpy.coordinates.wcs_utils\n",
    "from sunpy.net import vso"
   ]
  },
  {
   "cell_type": "markdown",
   "metadata": {},
   "source": [
    "The first step is to download some data, we are going to get an image from\n",
    "early 2011 when the STEREO spacecraft were roughly 90 deg seperated from the\n",
    "Earth.\n",
    "\n"
   ]
  },
  {
   "cell_type": "code",
   "execution_count": null,
   "metadata": {
    "collapsed": false
   },
   "outputs": [],
   "source": [
    "stereo = (vso.attrs.Source('STEREO_B') &\n",
    "          vso.attrs.Instrument('EUVI') &\n",
    "          vso.attrs.Time('2011-01-01', '2011-01-01T00:10:00'))\n",
    "\n",
    "aia = (vso.attrs.Instrument('AIA') &\n",
    "       vso.attrs.Sample(24 * u.hour) &\n",
    "       vso.attrs.Time('2011-01-01', '2011-01-02'))\n",
    "\n",
    "wave = vso.attrs.Wave(30 * u.nm, 31 * u.nm)\n",
    "\n",
    "\n",
    "vc = vso.VSOClient()\n",
    "res = vc.query(wave, aia | stereo)"
   ]
  },
  {
   "cell_type": "markdown",
   "metadata": {},
   "source": [
    "The results from VSO query:\n",
    "\n"
   ]
  },
  {
   "cell_type": "code",
   "execution_count": null,
   "metadata": {
    "collapsed": false
   },
   "outputs": [],
   "source": [
    "print(res)"
   ]
  },
  {
   "cell_type": "markdown",
   "metadata": {},
   "source": [
    "Download the files:\n",
    "\n"
   ]
  },
  {
   "cell_type": "code",
   "execution_count": null,
   "metadata": {
    "collapsed": false
   },
   "outputs": [],
   "source": [
    "files = vc.get(res).wait()"
   ]
  },
  {
   "cell_type": "markdown",
   "metadata": {},
   "source": [
    "Create a dictionary with the two maps, cropped down to full disk.\n",
    "\n"
   ]
  },
  {
   "cell_type": "code",
   "execution_count": null,
   "metadata": {
    "collapsed": false
   },
   "outputs": [],
   "source": [
    "maps = {m.detector: m.submap((-1100, 1100) * u.arcsec,\n",
    "                             (-1100, 1100) * u.arcsec) for m in sunpy.map.Map(files)}"
   ]
  },
  {
   "cell_type": "markdown",
   "metadata": {},
   "source": [
    "Plot both maps\n",
    "\n"
   ]
  },
  {
   "cell_type": "code",
   "execution_count": null,
   "metadata": {
    "collapsed": false
   },
   "outputs": [],
   "source": [
    "fig = plt.figure(figsize=(15, 5))\n",
    "for i, m in enumerate(maps.values()):\n",
    "    ax = fig.add_subplot(1, 2, i+1, projection=m.wcs)\n",
    "    m.plot(axes=ax)"
   ]
  },
  {
   "cell_type": "markdown",
   "metadata": {},
   "source": [
    "We are now going to pick out a region around the south west corner:\n",
    "\n"
   ]
  },
  {
   "cell_type": "code",
   "execution_count": null,
   "metadata": {
    "collapsed": false
   },
   "outputs": [],
   "source": [
    "aia_width = 200 * u.arcsec\n",
    "aia_height = 250 * u.arcsec\n",
    "aia_bottom_left = (-800, -300) * u.arcsec"
   ]
  },
  {
   "cell_type": "markdown",
   "metadata": {},
   "source": [
    "Plot a rectangle around the region we want to crop\n",
    "\n"
   ]
  },
  {
   "cell_type": "code",
   "execution_count": null,
   "metadata": {
    "collapsed": false
   },
   "outputs": [],
   "source": [
    "m = maps['AIA']\n",
    "fig = plt.figure()\n",
    "ax = fig.add_subplot(111, projection=m.wcs)\n",
    "m.plot(axes=ax)\n",
    "m.draw_rectangle(aia_bottom_left, aia_width, aia_height)"
   ]
  },
  {
   "cell_type": "markdown",
   "metadata": {},
   "source": [
    "Create a submap of this area\n",
    "\n"
   ]
  },
  {
   "cell_type": "code",
   "execution_count": null,
   "metadata": {
    "collapsed": false
   },
   "outputs": [],
   "source": [
    "subaia = maps['AIA'].submap(u.Quantity((aia_bottom_left[0],\n",
    "                                        aia_bottom_left[0] + aia_width)),\n",
    "                            u.Quantity((aia_bottom_left[1],\n",
    "                                        aia_bottom_left[1] + aia_height)))\n",
    "subaia.peek()"
   ]
  },
  {
   "cell_type": "markdown",
   "metadata": {},
   "source": [
    "We now want to crop out this same area on the STEREO EUVI image. First, we\n",
    "create a `SkyCoord` object with the four corners of the box. When we create\n",
    "this object, we use `Map.coordinate_frame` so that the location parameters of\n",
    "SDO are correctly set.\n",
    "\n"
   ]
  },
  {
   "cell_type": "code",
   "execution_count": null,
   "metadata": {
    "collapsed": false
   },
   "outputs": [],
   "source": [
    "hpc_aia = SkyCoord((aia_bottom_left,\n",
    "                    aia_bottom_left + u.Quantity((aia_width, 0 * u.arcsec)),\n",
    "                    aia_bottom_left + u.Quantity((0 * u.arcsec, aia_height)),\n",
    "                    aia_bottom_left + u.Quantity((aia_width, aia_height))),\n",
    "                   frame=maps['AIA'].coordinate_frame)\n",
    "\n",
    "print(hpc_aia)"
   ]
  },
  {
   "cell_type": "markdown",
   "metadata": {},
   "source": [
    "Now we convert these coordinates into Heliographic Stonyhurst coordinates,\n",
    "which are on the Sun, with the zero meridian facing the Earth.\n",
    "\n"
   ]
  },
  {
   "cell_type": "code",
   "execution_count": null,
   "metadata": {
    "collapsed": false
   },
   "outputs": [],
   "source": [
    "hgs = hpc_aia.transform_to('heliographic_stonyhurst')\n",
    "print(hgs)"
   ]
  },
  {
   "cell_type": "markdown",
   "metadata": {},
   "source": [
    "Now we need to provide the position information from the STEREO Imager:\n",
    "\n"
   ]
  },
  {
   "cell_type": "code",
   "execution_count": null,
   "metadata": {
    "collapsed": false
   },
   "outputs": [],
   "source": [
    "hgs.D0 = maps['EUVI'].dsun\n",
    "hgs.L0 = maps['EUVI'].heliographic_longitude\n",
    "hgs.B0 = maps['EUVI'].heliographic_latitude"
   ]
  },
  {
   "cell_type": "markdown",
   "metadata": {},
   "source": [
    "We do this on the Heliographic frame because when in a Heliographic frame\n",
    "these parameters have no effect on the frame, but they are used when the\n",
    "frame is converted back to Helioprojective. And now we can convert back to\n",
    "Helioprojective, but this time from the view-point of STEREO B:\n",
    "\n"
   ]
  },
  {
   "cell_type": "code",
   "execution_count": null,
   "metadata": {
    "collapsed": false
   },
   "outputs": [],
   "source": [
    "hpc_B = hgs.transform_to('helioprojective')\n",
    "print(hpc_B)"
   ]
  },
  {
   "cell_type": "markdown",
   "metadata": {},
   "source": [
    "Now we can plot this box on both the AIA and EUVI images:\n",
    "\n"
   ]
  },
  {
   "cell_type": "code",
   "execution_count": null,
   "metadata": {
    "collapsed": false
   },
   "outputs": [],
   "source": [
    "fig = plt.figure(figsize=(15, 5))\n",
    "for i, (m, coord) in enumerate(zip([maps['EUVI'], maps['AIA']],\n",
    "                                   [hpc_B, hpc_aia])):\n",
    "    ax = fig.add_subplot(1, 2, i+1, projection=m.wcs)\n",
    "    m.plot(axes=ax)\n",
    "\n",
    "    # coord[3] is the top-right corner coord[0] is the bottom-left corner.\n",
    "    w = (coord[3].Tx - coord[0].Tx)\n",
    "    h = (coord[3].Ty - coord[0].Ty)\n",
    "    m.draw_rectangle(u.Quantity((coord[0].Tx, coord[0].Ty)), w, h,\n",
    "                     transform=ax.get_transform('world'))"
   ]
  },
  {
   "cell_type": "markdown",
   "metadata": {},
   "source": [
    "We can now zoom in on the region in the EUVI image:\n",
    "\n"
   ]
  },
  {
   "cell_type": "code",
   "execution_count": null,
   "metadata": {
    "collapsed": false
   },
   "outputs": [],
   "source": [
    "subeuvi = maps['EUVI'].submap(u.Quantity((hpc_B[0].Tx, hpc_B[3].Tx)),\n",
    "                              u.Quantity((hpc_B[0].Ty, hpc_B[3].Ty)))\n",
    "subeuvi.peek()"
   ]
  },
  {
   "cell_type": "markdown",
   "metadata": {},
   "source": [
    "Putting them together:\n",
    "\n"
   ]
  },
  {
   "cell_type": "code",
   "execution_count": null,
   "metadata": {
    "collapsed": false
   },
   "outputs": [],
   "source": [
    "fig = plt.figure(figsize=(15, 5))\n",
    "for i, m in enumerate((subeuvi, subaia)):\n",
    "    ax = fig.add_subplot(1, 2, i+1, projection=m.wcs)\n",
    "    m.plot(axes=ax)"
   ]
  }
 ],
 "metadata": {
  "kernelspec": {
   "display_name": "Python 2",
   "language": "python",
   "name": "python2"
  },
  "language_info": {
   "codemirror_mode": {
    "name": "ipython",
    "version": 2
   },
   "file_extension": ".py",
   "mimetype": "text/x-python",
   "name": "python",
   "nbconvert_exporter": "python",
   "pygments_lexer": "ipython2",
   "version": "2.7.11"
  }
 },
 "nbformat": 4,
 "nbformat_minor": 0
}
