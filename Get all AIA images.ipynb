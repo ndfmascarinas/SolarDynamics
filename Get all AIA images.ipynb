{
 "cells": [
  {
   "cell_type": "code",
   "execution_count": null,
   "metadata": {
    "collapsed": false
   },
   "outputs": [],
   "source": [
    "image_types = {\n",
    "#     'AIA': ['94', '131', '171', '193', '211', '304', '335', '1600', \n",
    "#      'AIA': ['1700'],\n",
    "    'HMI': ['intensity']\n",
    "\n",
    "#     'HMI': ['los_magnetic_field', 'intensity']\n",
    "}\n"
   ]
  },
  {
   "cell_type": "markdown",
   "metadata": {},
   "source": [
    "Baliktad yung magnetogram?"
   ]
  },
  {
   "cell_type": "code",
   "execution_count": null,
   "metadata": {
    "collapsed": false
   },
   "outputs": [],
   "source": [
    "for instrument, instrument_subtype in image_types.iteritems():\n",
    "    for imtype in instrument_subtype:\n",
    "        if type(imtype)==int:\n",
    "            print instrument + '_' + str(imtype)\n",
    "        else:\n",
    "            print instrument + '_' + imtype\n",
    "        "
   ]
  },
  {
   "cell_type": "code",
   "execution_count": null,
   "metadata": {
    "collapsed": false
   },
   "outputs": [],
   "source": [
    "from sunpy.net.vso import VSOClient\n",
    "import pytz\n",
    "import os\n",
    "from datetime import datetime\n",
    "client = VSOClient()"
   ]
  },
  {
   "cell_type": "code",
   "execution_count": null,
   "metadata": {
    "collapsed": false
   },
   "outputs": [],
   "source": [
    "# now = datetime.now(pytz.utc)\n",
    "# main_folder_name = str(now)[:16].replace(':', '-')\n",
    "# print main_folder_name\n",
    "\n",
    "main_folder_name = '2016-03-26 14-28'\n",
    "directory = 'F:/Research/Data/{0}'.format(main_folder_name)"
   ]
  },
  {
   "cell_type": "code",
   "execution_count": null,
   "metadata": {
    "collapsed": true
   },
   "outputs": [],
   "source": [
    "tstart='2015/12/28 00:00:00'\n",
    "tend='2016/01/05 00:00:00'\n",
    "sampling_time=3600"
   ]
  },
  {
   "cell_type": "code",
   "execution_count": null,
   "metadata": {
    "collapsed": false
   },
   "outputs": [],
   "source": [
    "directory = 'F:/Research/Data/{0}'.format(main_folder_name)\n",
    "if not os.path.exists(directory):\n",
    "    os.makedirs(directory)"
   ]
  },
  {
   "cell_type": "code",
   "execution_count": null,
   "metadata": {
    "collapsed": true
   },
   "outputs": [],
   "source": [
    "def create_subdir(directory, instrument, imtype):\n",
    "    subdirectory = instrument + '_' + imtype\n",
    "    new_dir = directory + '/' + subdirectory\n",
    "    if not os.path.exists(new_dir):\n",
    "        os.makedirs(new_dir)\n",
    "    return new_dir"
   ]
  },
  {
   "cell_type": "code",
   "execution_count": null,
   "metadata": {
    "collapsed": false
   },
   "outputs": [],
   "source": [
    "\n",
    "query_params = open((directory+\"/query_params.txt\"), \"w\")\n",
    "query_params.write(\"tstart= \"+tstart+\"\\n\")\n",
    "query_params.write(\"tend= \"+tend+\"\\n\")\n",
    "query_params.write(\"sampling_time= \"+str(sampling_time)+\"\\n\")\n",
    "query_params.close()\n",
    "\n",
    "for instrument, instrument_subtype in image_types.iteritems():\n",
    "    for imtype in instrument_subtype:\n",
    "        print instrument + '_' + imtype\n",
    "        if instrument=='AIA':\n",
    "            new_dir = create_subdir(directory, instrument, imtype)\n",
    "            query_response = client.query_legacy(tstart=tstart, tend=tend, instrument='AIA', wave=imtype, \n",
    "                                                 sample=sampling_time)\n",
    "        else:\n",
    "            new_dir = create_subdir(directory, instrument, imtype)\n",
    "            query_response = client.query_legacy(tstart=tstart, tend=tend, instrument='HMI', physobs=imtype, \n",
    "                                                 sample=sampling_time)\n",
    "        query_response.sort(key=lambda x: x.time.start)\n",
    "        results = client.get(query_response, path=(new_dir+'/{file}'), site='rob')\n",
    "        files = results.wait()"
   ]
  },
  {
   "cell_type": "code",
   "execution_count": null,
   "metadata": {
    "collapsed": true
   },
   "outputs": [],
   "source": []
  },
  {
   "cell_type": "code",
   "execution_count": null,
   "metadata": {
    "collapsed": true
   },
   "outputs": [],
   "source": []
  },
  {
   "cell_type": "code",
   "execution_count": null,
   "metadata": {
    "collapsed": true
   },
   "outputs": [],
   "source": []
  },
  {
   "cell_type": "code",
   "execution_count": null,
   "metadata": {
    "collapsed": true
   },
   "outputs": [],
   "source": []
  },
  {
   "cell_type": "code",
   "execution_count": null,
   "metadata": {
    "collapsed": false
   },
   "outputs": [],
   "source": [
    "import sunpy.map\n",
    "import matplotlib.pyplot as plt\n",
    "import matplotlib\n",
    "from matplotlib.colors import LogNorm\n",
    "from astropy import units as u\n",
    "%matplotlib inline\n"
   ]
  },
  {
   "cell_type": "code",
   "execution_count": 56,
   "metadata": {
    "collapsed": false
   },
   "outputs": [
    {
     "ename": "SyntaxError",
     "evalue": "EOL while scanning string literal (<ipython-input-56-ac3a5a017a48>, line 11)",
     "output_type": "error",
     "traceback": [
      "\u001b[1;36m  File \u001b[1;32m\"<ipython-input-56-ac3a5a017a48>\"\u001b[1;36m, line \u001b[1;32m11\u001b[0m\n\u001b[1;33m    print f.replace(\"\\\", \"/\")\u001b[0m\n\u001b[1;37m                            ^\u001b[0m\n\u001b[1;31mSyntaxError\u001b[0m\u001b[1;31m:\u001b[0m EOL while scanning string literal\n"
     ]
    }
   ],
   "source": [
    "import glob\n",
    "for instrument, instrument_subtype in image_types.iteritems():\n",
    "    for imtype in instrument_subtype:\n",
    "        print instrument + '_' + imtype\n",
    "        if instrument=='AIA':\n",
    "            new_dir = create_subdir(directory, instrument, imtype)\n",
    "        else:\n",
    "            new_dir = create_subdir(directory, instrument, imtype)\n",
    "        data_filenames = glob.glob(new_dir+\"/*.fits\")\n",
    "        for f in data_filenames:\n",
    "            print f.replace(\"\", \"/\")"
   ]
  },
  {
   "cell_type": "code",
   "execution_count": 117,
   "metadata": {
    "collapsed": false
   },
   "outputs": [
    {
     "name": "stdout",
     "output_type": "stream",
     "text": [
      "HMI_intensity\n"
     ]
    },
    {
     "name": "stderr",
     "output_type": "stream",
     "text": [
      "Exception AttributeError: AttributeError('_coldefs',) in <bound method FITS_rec.__del__ of FITS_rec([(array([66,  0]),), (array([66, 66]),), (array([ 66, 132]),), ...,\n",
      "       (array([      66, 16496653]),), (array([      66, 16496719]),),\n",
      "       (array([      66, 16496785]),)], \n",
      "      dtype=(numpy.record, [('COMPRESSED_DATA', '>i4', (2,))]))> ignored\n"
     ]
    }
   ],
   "source": [
    "from os import listdir\n",
    "from os.path import isfile, join\n",
    "\n",
    "import matplotlib.pyplot as plt\n",
    "from sunpy.map import Map\n",
    "\n",
    "for instrument, instrument_subtype in image_types.iteritems():\n",
    "    for imtype in instrument_subtype:\n",
    "        print instrument + '_' + imtype\n",
    "        if instrument=='AIA':\n",
    "            new_dir = create_subdir(directory, instrument, imtype)\n",
    "        else:\n",
    "            new_dir = create_subdir(directory, instrument, imtype)\n",
    "        fits_files_list = [f for f in listdir(new_dir) if isfile(join(new_dir, f))]\n",
    "        for filename_toplot in fits_files_list:\n",
    "            ax = sunpy.map.Map('{0}/{1}'.format(new_dir,filename_toplot))   \n",
    "            ax.plot()   \n",
    "            plt.colorbar()  \n",
    "            ax.draw_limb() \n",
    "            plt.savefig('{0}/{1}.png'.format(directory,(instrument + '_' + filename_toplot[0:len(filename_toplot)-5])), dpi=300)\n",
    "            plt.close()"
   ]
  },
  {
   "cell_type": "code",
   "execution_count": 112,
   "metadata": {
    "collapsed": false
   },
   "outputs": [
    {
     "ename": "TypeError",
     "evalue": "read() got an unexpected keyword argument 'reshape'",
     "output_type": "error",
     "traceback": [
      "\u001b[1;31m---------------------------------------------------------------------------\u001b[0m",
      "\u001b[1;31mTypeError\u001b[0m                                 Traceback (most recent call last)",
      "\u001b[1;32m<ipython-input-112-f3cbf6e9f96c>\u001b[0m in \u001b[0;36m<module>\u001b[1;34m()\u001b[0m\n\u001b[0;32m      1\u001b[0m \u001b[0mshape\u001b[0m \u001b[1;33m=\u001b[0m \u001b[0mu\u001b[0m\u001b[1;33m.\u001b[0m\u001b[0mQuantity\u001b[0m\u001b[1;33m(\u001b[0m\u001b[1;33m[\u001b[0m\u001b[1;36m512\u001b[0m\u001b[1;33m,\u001b[0m \u001b[1;36m512\u001b[0m\u001b[1;33m]\u001b[0m \u001b[1;33m*\u001b[0m \u001b[0mu\u001b[0m\u001b[1;33m.\u001b[0m\u001b[0mpixel\u001b[0m\u001b[1;33m)\u001b[0m\u001b[1;33m\u001b[0m\u001b[0m\n\u001b[1;32m----> 2\u001b[1;33m \u001b[0mcube\u001b[0m \u001b[1;33m=\u001b[0m \u001b[0mMap\u001b[0m\u001b[1;33m(\u001b[0m\u001b[0mto_plot\u001b[0m\u001b[1;33m,\u001b[0m \u001b[0mreshape\u001b[0m\u001b[1;33m=\u001b[0m\u001b[0mshape\u001b[0m\u001b[1;33m,\u001b[0m \u001b[0mmethod\u001b[0m\u001b[1;33m=\u001b[0m\u001b[1;34m'linear'\u001b[0m\u001b[1;33m,\u001b[0m \u001b[0mcube\u001b[0m\u001b[1;33m=\u001b[0m\u001b[0mTrue\u001b[0m\u001b[1;33m)\u001b[0m\u001b[1;33m\u001b[0m\u001b[0m\n\u001b[0m\u001b[0;32m      3\u001b[0m \u001b[0mani\u001b[0m \u001b[1;33m=\u001b[0m \u001b[0mcube\u001b[0m\u001b[1;33m.\u001b[0m\u001b[0mpeek\u001b[0m\u001b[1;33m(\u001b[0m\u001b[0mcolorbar\u001b[0m\u001b[1;33m=\u001b[0m\u001b[0mTrue\u001b[0m\u001b[1;33m)\u001b[0m\u001b[1;33m\u001b[0m\u001b[0m\n\u001b[0;32m      4\u001b[0m \u001b[0mplt\u001b[0m\u001b[1;33m.\u001b[0m\u001b[0mshow\u001b[0m\u001b[1;33m(\u001b[0m\u001b[1;33m)\u001b[0m\u001b[1;33m\u001b[0m\u001b[0m\n",
      "\u001b[1;32mC:\\Users\\Akared\\Anaconda\\lib\\site-packages\\sunpy-0.6.1-py2.7.egg\\sunpy\\map\\map_factory.pyc\u001b[0m in \u001b[0;36m__call__\u001b[1;34m(self, *args, **kwargs)\u001b[0m\n\u001b[0;32m    237\u001b[0m         \u001b[0msilence_errors\u001b[0m \u001b[1;33m=\u001b[0m \u001b[0mkwargs\u001b[0m\u001b[1;33m.\u001b[0m\u001b[0mpop\u001b[0m\u001b[1;33m(\u001b[0m\u001b[1;34m'silence_errors'\u001b[0m\u001b[1;33m,\u001b[0m \u001b[0mFalse\u001b[0m\u001b[1;33m)\u001b[0m\u001b[1;33m\u001b[0m\u001b[0m\n\u001b[0;32m    238\u001b[0m \u001b[1;33m\u001b[0m\u001b[0m\n\u001b[1;32m--> 239\u001b[1;33m         \u001b[0mdata_header_pairs\u001b[0m\u001b[1;33m,\u001b[0m \u001b[0malready_maps\u001b[0m \u001b[1;33m=\u001b[0m \u001b[0mself\u001b[0m\u001b[1;33m.\u001b[0m\u001b[0m_parse_args\u001b[0m\u001b[1;33m(\u001b[0m\u001b[1;33m*\u001b[0m\u001b[0margs\u001b[0m\u001b[1;33m,\u001b[0m \u001b[1;33m**\u001b[0m\u001b[0mkwargs\u001b[0m\u001b[1;33m)\u001b[0m\u001b[1;33m\u001b[0m\u001b[0m\n\u001b[0m\u001b[0;32m    240\u001b[0m \u001b[1;33m\u001b[0m\u001b[0m\n\u001b[0;32m    241\u001b[0m         \u001b[0mnew_maps\u001b[0m \u001b[1;33m=\u001b[0m \u001b[0mlist\u001b[0m\u001b[1;33m(\u001b[0m\u001b[1;33m)\u001b[0m\u001b[1;33m\u001b[0m\u001b[0m\n",
      "\u001b[1;32mC:\\Users\\Akared\\Anaconda\\lib\\site-packages\\sunpy-0.6.1-py2.7.egg\\sunpy\\map\\map_factory.pyc\u001b[0m in \u001b[0;36m_parse_args\u001b[1;34m(self, *args, **kwargs)\u001b[0m\n\u001b[0;32m    165\u001b[0m                   os.path.isfile(os.path.expanduser(arg))):\n\u001b[0;32m    166\u001b[0m                 \u001b[0mpath\u001b[0m \u001b[1;33m=\u001b[0m \u001b[0mos\u001b[0m\u001b[1;33m.\u001b[0m\u001b[0mpath\u001b[0m\u001b[1;33m.\u001b[0m\u001b[0mexpanduser\u001b[0m\u001b[1;33m(\u001b[0m\u001b[0marg\u001b[0m\u001b[1;33m)\u001b[0m\u001b[1;33m\u001b[0m\u001b[0m\n\u001b[1;32m--> 167\u001b[1;33m                 \u001b[0mpairs\u001b[0m \u001b[1;33m=\u001b[0m \u001b[0mself\u001b[0m\u001b[1;33m.\u001b[0m\u001b[0m_read_file\u001b[0m\u001b[1;33m(\u001b[0m\u001b[0mpath\u001b[0m\u001b[1;33m,\u001b[0m \u001b[1;33m**\u001b[0m\u001b[0mkwargs\u001b[0m\u001b[1;33m)\u001b[0m\u001b[1;33m\u001b[0m\u001b[0m\n\u001b[0m\u001b[0;32m    168\u001b[0m                 \u001b[0mdata_header_pairs\u001b[0m \u001b[1;33m+=\u001b[0m \u001b[0mpairs\u001b[0m\u001b[1;33m\u001b[0m\u001b[0m\n\u001b[0;32m    169\u001b[0m \u001b[1;33m\u001b[0m\u001b[0m\n",
      "\u001b[1;32mC:\\Users\\Akared\\Anaconda\\lib\\site-packages\\sunpy-0.6.1-py2.7.egg\\sunpy\\map\\map_factory.pyc\u001b[0m in \u001b[0;36m_read_file\u001b[1;34m(self, fname, **kwargs)\u001b[0m\n\u001b[0;32m     99\u001b[0m         \u001b[1;31m# File gets read here.  This needs to be generic enough to seamlessly\u001b[0m\u001b[1;33m\u001b[0m\u001b[1;33m\u001b[0m\u001b[0m\n\u001b[0;32m    100\u001b[0m         \u001b[1;31m#call a fits file or a jpeg2k file, etc\u001b[0m\u001b[1;33m\u001b[0m\u001b[1;33m\u001b[0m\u001b[0m\n\u001b[1;32m--> 101\u001b[1;33m         \u001b[0mpairs\u001b[0m \u001b[1;33m=\u001b[0m \u001b[0mread_file\u001b[0m\u001b[1;33m(\u001b[0m\u001b[0mfname\u001b[0m\u001b[1;33m,\u001b[0m \u001b[1;33m**\u001b[0m\u001b[0mkwargs\u001b[0m\u001b[1;33m)\u001b[0m\u001b[1;33m\u001b[0m\u001b[0m\n\u001b[0m\u001b[0;32m    102\u001b[0m \u001b[1;33m\u001b[0m\u001b[0m\n\u001b[0;32m    103\u001b[0m         \u001b[0mnew_pairs\u001b[0m \u001b[1;33m=\u001b[0m \u001b[1;33m[\u001b[0m\u001b[1;33m]\u001b[0m\u001b[1;33m\u001b[0m\u001b[0m\n",
      "\u001b[1;32mC:\\Users\\Akared\\Anaconda\\lib\\site-packages\\sunpy-0.6.1-py2.7.egg\\sunpy\\io\\file_tools.pyc\u001b[0m in \u001b[0;36mread_file\u001b[1;34m(filepath, filetype, **kwargs)\u001b[0m\n\u001b[0;32m     68\u001b[0m     \u001b[1;32mfor\u001b[0m \u001b[0mextension\u001b[0m\u001b[1;33m,\u001b[0m \u001b[0mreadername\u001b[0m \u001b[1;32min\u001b[0m \u001b[0m_known_extensions\u001b[0m\u001b[1;33m.\u001b[0m\u001b[0mitems\u001b[0m\u001b[1;33m(\u001b[0m\u001b[1;33m)\u001b[0m\u001b[1;33m:\u001b[0m\u001b[1;33m\u001b[0m\u001b[0m\n\u001b[0;32m     69\u001b[0m         \u001b[1;32mif\u001b[0m \u001b[0mfilepath\u001b[0m\u001b[1;33m.\u001b[0m\u001b[0mendswith\u001b[0m\u001b[1;33m(\u001b[0m\u001b[0mextension\u001b[0m\u001b[1;33m)\u001b[0m \u001b[1;32mor\u001b[0m \u001b[0mfiletype\u001b[0m \u001b[1;32min\u001b[0m \u001b[0mextension\u001b[0m\u001b[1;33m:\u001b[0m\u001b[1;33m\u001b[0m\u001b[0m\n\u001b[1;32m---> 70\u001b[1;33m             \u001b[1;32mreturn\u001b[0m \u001b[0m_readers\u001b[0m\u001b[1;33m[\u001b[0m\u001b[0mreadername\u001b[0m\u001b[1;33m]\u001b[0m\u001b[1;33m.\u001b[0m\u001b[0mread\u001b[0m\u001b[1;33m(\u001b[0m\u001b[0mfilepath\u001b[0m\u001b[1;33m,\u001b[0m \u001b[1;33m**\u001b[0m\u001b[0mkwargs\u001b[0m\u001b[1;33m)\u001b[0m\u001b[1;33m\u001b[0m\u001b[0m\n\u001b[0m\u001b[0;32m     71\u001b[0m \u001b[1;33m\u001b[0m\u001b[0m\n\u001b[0;32m     72\u001b[0m     \u001b[1;31m# If filetype is not apparent from extension, attempt to detect\u001b[0m\u001b[1;33m\u001b[0m\u001b[1;33m\u001b[0m\u001b[0m\n",
      "\u001b[1;31mTypeError\u001b[0m: read() got an unexpected keyword argument 'reshape'"
     ]
    }
   ],
   "source": []
  },
  {
   "cell_type": "code",
   "execution_count": 94,
   "metadata": {
    "collapsed": false
   },
   "outputs": [
    {
     "data": {
      "text/plain": [
       "array([ 'F:/Research/Data/2016-03-26 10-39/AIA_1700/aia_20160101_000029_1700_image_lev1.fits',\n",
       "       'F:/Research/Data/2016-03-26 10-39/AIA_1700/aia_20160101_010029_1700_image_lev1.fits',\n",
       "       'F:/Research/Data/2016-03-26 10-39/AIA_1700/aia_20160101_020029_1700_image_lev1.fits',\n",
       "       'F:/Research/Data/2016-03-26 10-39/AIA_1700/aia_20160101_030029_1700_image_lev1.fits',\n",
       "       'F:/Research/Data/2016-03-26 10-39/AIA_1700/aia_20160101_040029_1700_image_lev1.fits'], \n",
       "      dtype='|S83')"
      ]
     },
     "execution_count": 94,
     "metadata": {},
     "output_type": "execute_result"
    }
   ],
   "source": [
    "to_plot"
   ]
  },
  {
   "cell_type": "code",
   "execution_count": null,
   "metadata": {
    "collapsed": true
   },
   "outputs": [],
   "source": []
  }
 ],
 "metadata": {
  "kernelspec": {
   "display_name": "Python 2",
   "language": "python",
   "name": "python2"
  },
  "language_info": {
   "codemirror_mode": {
    "name": "ipython",
    "version": 2
   },
   "file_extension": ".py",
   "mimetype": "text/x-python",
   "name": "python",
   "nbconvert_exporter": "python",
   "pygments_lexer": "ipython2",
   "version": "2.7.11"
  }
 },
 "nbformat": 4,
 "nbformat_minor": 0
}
