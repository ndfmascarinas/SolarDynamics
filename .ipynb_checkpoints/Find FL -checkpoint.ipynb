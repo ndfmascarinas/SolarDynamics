{
 "cells": [
  {
   "cell_type": "code",
   "execution_count": 1,
   "metadata": {
    "collapsed": true
   },
   "outputs": [],
   "source": [
    "import pytz\n",
    "import os\n",
    "from datetime import datetime, timedelta\n",
    "import pandas as pd\n",
    "from pandas.tseries.offsets import MonthBegin\n",
    "import urllib2\n",
    "import cPickle\n",
    "from sunpy.time import TimeRange\n",
    "from sunpy.instr import goes\n",
    "from sunpy.net import hek\n",
    "client = hek.HEKClient()"
   ]
  },
  {
   "cell_type": "code",
   "execution_count": 11,
   "metadata": {
    "collapsed": true
   },
   "outputs": [],
   "source": [
    "date_values = pd.date_range(pd.Timestamp('2015-03-01').tz_localize('utc'), \n",
    "                          pd.Timestamp('2015-04-01').tz_localize('utc'),  freq='MS')"
   ]
  },
  {
   "cell_type": "code",
   "execution_count": 10,
   "metadata": {
    "collapsed": true
   },
   "outputs": [],
   "source": [
    "directory = 'AR-FL_2/'\n",
    "if not os.path.exists(directory):\n",
    "    os.makedirs(directory)"
   ]
  },
  {
   "cell_type": "code",
   "execution_count": 13,
   "metadata": {
    "collapsed": true
   },
   "outputs": [],
   "source": [
    "def get_goes_data(time_range):\n",
    "    success_data = False\n",
    "    while not success_data:\n",
    "        try:\n",
    "            goes_data = goes.get_goes_event_list(time_range)\n",
    "            success_data = True\n",
    "        except urllib2.HTTPError as err:\n",
    "            pass\n",
    "    return goes_data\n",
    "\n",
    "def query_hek_goes(tstart, tend):\n",
    "    import urllib2\n",
    "    success_data = False\n",
    "    while not success_data:\n",
    "        try:\n",
    "            result_data = client.query(hek.attrs.Time(tstart,tend),\n",
    "                                       hek.attrs.EventType('FL'),\n",
    "                                       hek.attrs.OBS.Observatory == 'GOES')\n",
    "            success_data = True\n",
    "        except (urllib2.HTTPError, urllib2.URLError):\n",
    "            pass\n",
    "    return result_data\n",
    "\n",
    "def query_hek(tstart, tend, event_type):\n",
    "    import urllib2\n",
    "    success_data = False\n",
    "    while not success_data:\n",
    "        try:\n",
    "            result_data = client.query(hek.attrs.Time(tstart,tend),hek.attrs.EventType(event_type))\n",
    "            success_data = True\n",
    "        except (urllib2.HTTPError, urllib2.URLError):\n",
    "            pass\n",
    "    return result_data"
   ]
  },
  {
   "cell_type": "markdown",
   "metadata": {},
   "source": [
    "# Group all data from GOES"
   ]
  },
  {
   "cell_type": "code",
   "execution_count": null,
   "metadata": {
    "collapsed": false
   },
   "outputs": [],
   "source": [
    "%%time\n",
    "for d in xrange(len(date_values) - 1):\n",
    "    # Get FL data from GOES\n",
    "    goes_data_query = query_hek_goes(date_values[d], date_values[d+1])\n",
    "    goes_data_query = pd.DataFrame.from_dict(goes_data_query)\n",
    "    goes_data = goes_data_query[[\n",
    "            'ar_noaanum',\n",
    "            'event_starttime',\n",
    "            'event_peaktime',\n",
    "            'event_endtime',\n",
    "            'fl_goescls',\n",
    "            'ar_mcintoshcls', \n",
    "            'obs_instrument',\n",
    "            'obs_lastprocessingdate',\n",
    "            'obs_levelnum',\n",
    "            'obs_meanwavel',\n",
    "            'obs_observatory',\n",
    "            'obs_title',\n",
    "            'obs_wavelunit',\n",
    "            'event_coord1',\n",
    "            'event_coord2',\n",
    "            'boundbox_c1ll',\n",
    "            'boundbox_c1ur',\n",
    "            'hrc_bbox',\n",
    "            'hrc_boundcc',\n",
    "            'hrc_coord',\n",
    "            'hgc_bbox',\n",
    "            'hgc_boundcc',\n",
    "            'hgc_coord',\n",
    "            'hgc_x',\n",
    "            'hgc_y',\n",
    "            'hgs_bbox',\n",
    "            'hgs_boundcc',\n",
    "            'hgs_coord',\n",
    "            'hgs_x',\n",
    "            'hgs_y',\n",
    "            'hpc_bbox',\n",
    "            'hpc_boundcc',\n",
    "            'hpc_coord',\n",
    "            'hpc_geom',\n",
    "            'hpc_radius',\n",
    "            'hpc_x',\n",
    "            'hpc_y',\n",
    "            'hrc_a',\n",
    "            'hrc_bbox',\n",
    "            'hrc_boundcc',\n",
    "            'hrc_coord',\n",
    "            'hrc_r',\n",
    "        ]]\n",
    "    goes_data['flux'] = goes_data.goes_class.apply(lambda x: goes.flareclass_to_flux(x))\n",
    "    goes_data.to_csv('{0}GOES-FL-{1}.csv'.format(directory, str(date_values[d].to_period('M'))))\n",
    "    print \"Done FL, {0}\".format(str(date_values[d].to_period('M')))"
   ]
  },
  {
   "cell_type": "code",
   "execution_count": 4,
   "metadata": {
    "collapsed": false
   },
   "outputs": [
    {
     "name": "stdout",
     "output_type": "stream",
     "text": [
      "Done FL, 2011-03\n",
      "Done FL, 2011-04\n",
      "Done FL, 2011-05\n",
      "Done FL, 2011-06\n",
      "Done FL, 2011-07\n",
      "Done FL, 2011-08\n",
      "Done FL, 2011-09\n",
      "Done FL, 2011-10\n",
      "Done FL, 2011-11\n",
      "Done FL, 2011-12\n"
     ]
    }
   ],
   "source": [
    "goes_data_all = pd.DataFrame()\n",
    "for d in xrange(len(date_values) - 1):\n",
    "    # Get FL data from GOES\n",
    "    goes_data = pd.DataFrame.from_csv('{0}GOES-FL-{1}.csv'.format(directory, str(date_values[d].to_period('M'))))\n",
    "    goes_data_all = goes_data_all.append(goes_data, ignore_index=True)\n",
    "    print \"Done FL, {0}\".format(str(date_values[d].to_period('M')))\n",
    "    "
   ]
  },
  {
   "cell_type": "code",
   "execution_count": 6,
   "metadata": {
    "collapsed": false
   },
   "outputs": [
    {
     "data": {
      "text/html": [
       "<div>\n",
       "<table border=\"1\" class=\"dataframe\">\n",
       "  <thead>\n",
       "    <tr style=\"text-align: right;\">\n",
       "      <th></th>\n",
       "      <th>end_time</th>\n",
       "      <th>event_date</th>\n",
       "      <th>goes_class</th>\n",
       "      <th>goes_location</th>\n",
       "      <th>noaa_active_region</th>\n",
       "      <th>peak_time</th>\n",
       "      <th>start_time</th>\n",
       "      <th>flux</th>\n",
       "    </tr>\n",
       "  </thead>\n",
       "  <tbody>\n",
       "    <tr>\n",
       "      <th>0</th>\n",
       "      <td>2011-03-01 00:27:00</td>\n",
       "      <td>2011-02-28</td>\n",
       "      <td>C1.6</td>\n",
       "      <td>(0, 0)</td>\n",
       "      <td>0</td>\n",
       "      <td>2011-03-01 00:05:00</td>\n",
       "      <td>2011-02-28 23:11:00</td>\n",
       "      <td>1.6e-06 W / m2</td>\n",
       "    </tr>\n",
       "    <tr>\n",
       "      <th>1</th>\n",
       "      <td>2011-03-01 04:40:00</td>\n",
       "      <td>2011-03-01</td>\n",
       "      <td>C6.0</td>\n",
       "      <td>(-32, 24)</td>\n",
       "      <td>11164</td>\n",
       "      <td>2011-03-01 04:13:00</td>\n",
       "      <td>2011-03-01 02:30:00</td>\n",
       "      <td>6e-06 W / m2</td>\n",
       "    </tr>\n",
       "    <tr>\n",
       "      <th>2</th>\n",
       "      <td>2011-03-01 09:34:00</td>\n",
       "      <td>2011-03-01</td>\n",
       "      <td>C2.9</td>\n",
       "      <td>(0, 0)</td>\n",
       "      <td>11164</td>\n",
       "      <td>2011-03-01 09:18:00</td>\n",
       "      <td>2011-03-01 08:52:00</td>\n",
       "      <td>2.9e-06 W / m2</td>\n",
       "    </tr>\n",
       "  </tbody>\n",
       "</table>\n",
       "</div>"
      ],
      "text/plain": [
       "              end_time  event_date goes_class goes_location  \\\n",
       "0  2011-03-01 00:27:00  2011-02-28       C1.6        (0, 0)   \n",
       "1  2011-03-01 04:40:00  2011-03-01       C6.0     (-32, 24)   \n",
       "2  2011-03-01 09:34:00  2011-03-01       C2.9        (0, 0)   \n",
       "\n",
       "   noaa_active_region            peak_time           start_time  \\\n",
       "0                   0  2011-03-01 00:05:00  2011-02-28 23:11:00   \n",
       "1               11164  2011-03-01 04:13:00  2011-03-01 02:30:00   \n",
       "2               11164  2011-03-01 09:18:00  2011-03-01 08:52:00   \n",
       "\n",
       "             flux  \n",
       "0  1.6e-06 W / m2  \n",
       "1    6e-06 W / m2  \n",
       "2  2.9e-06 W / m2  "
      ]
     },
     "execution_count": 6,
     "metadata": {},
     "output_type": "execute_result"
    }
   ],
   "source": [
    "goes_data_all[:3]"
   ]
  },
  {
   "cell_type": "code",
   "execution_count": 5,
   "metadata": {
    "collapsed": false
   },
   "outputs": [],
   "source": [
    "goes_data_all['flux'] = ''\n",
    "for ind, gc in zip(goes_data_all.index, goes_data_all.goes_class):\n",
    "    goes_data_all.set_value(ind, 'flux', goes.flareclass_to_flux(gc))"
   ]
  },
  {
   "cell_type": "code",
   "execution_count": 30,
   "metadata": {
    "collapsed": false
   },
   "outputs": [
    {
     "data": {
      "text/plain": [
       "{'B1.1',\n",
       " 'B1.2',\n",
       " 'B1.3',\n",
       " 'B1.5',\n",
       " 'B1.6',\n",
       " 'B1.7',\n",
       " 'B1.8',\n",
       " 'B1.9',\n",
       " 'B2.0',\n",
       " 'B2.1',\n",
       " 'B2.2',\n",
       " 'B2.3',\n",
       " 'B2.4',\n",
       " 'B2.5',\n",
       " 'B2.6',\n",
       " 'B2.7',\n",
       " 'B2.8',\n",
       " 'B2.9',\n",
       " 'B3.0',\n",
       " 'B3.1',\n",
       " 'B3.2',\n",
       " 'B3.3',\n",
       " 'B3.4',\n",
       " 'B3.5',\n",
       " 'B3.6',\n",
       " 'B3.7',\n",
       " 'B3.8',\n",
       " 'B3.9',\n",
       " 'B4.0',\n",
       " 'B4.1',\n",
       " 'B4.2',\n",
       " 'B4.3',\n",
       " 'B4.4',\n",
       " 'B4.5',\n",
       " 'B4.6',\n",
       " 'B4.7',\n",
       " 'B4.8',\n",
       " 'B4.9',\n",
       " 'B5.0',\n",
       " 'B5.1',\n",
       " 'B5.2',\n",
       " 'B5.3',\n",
       " 'B5.4',\n",
       " 'B5.5',\n",
       " 'B5.6',\n",
       " 'B5.7',\n",
       " 'B5.8',\n",
       " 'B5.9',\n",
       " 'B6.0',\n",
       " 'B6.1',\n",
       " 'B6.2',\n",
       " 'B6.3',\n",
       " 'B6.4',\n",
       " 'B6.5',\n",
       " 'B6.6',\n",
       " 'B6.7',\n",
       " 'B6.8',\n",
       " 'B6.9',\n",
       " 'B7.0',\n",
       " 'B7.1',\n",
       " 'B7.2',\n",
       " 'B7.3',\n",
       " 'B7.4',\n",
       " 'B7.5',\n",
       " 'B7.6',\n",
       " 'B7.7',\n",
       " 'B7.8',\n",
       " 'B7.9',\n",
       " 'B8.0',\n",
       " 'B8.1',\n",
       " 'B8.2',\n",
       " 'B8.3',\n",
       " 'B8.4',\n",
       " 'B8.5',\n",
       " 'B8.6',\n",
       " 'B8.7',\n",
       " 'B8.8',\n",
       " 'B8.9',\n",
       " 'B9.0',\n",
       " 'B9.1',\n",
       " 'B9.2',\n",
       " 'B9.3',\n",
       " 'B9.4',\n",
       " 'B9.5',\n",
       " 'B9.6',\n",
       " 'B9.7',\n",
       " 'B9.8',\n",
       " 'B9.9',\n",
       " 'C1.0',\n",
       " 'C1.1',\n",
       " 'C1.2',\n",
       " 'C1.3',\n",
       " 'C1.4',\n",
       " 'C1.5',\n",
       " 'C1.6',\n",
       " 'C1.7',\n",
       " 'C1.8',\n",
       " 'C1.9',\n",
       " 'C2.0',\n",
       " 'C2.1',\n",
       " 'C2.2',\n",
       " 'C2.3',\n",
       " 'C2.4',\n",
       " 'C2.5',\n",
       " 'C2.6',\n",
       " 'C2.7',\n",
       " 'C2.8',\n",
       " 'C2.9',\n",
       " 'C3.0',\n",
       " 'C3.1',\n",
       " 'C3.2',\n",
       " 'C3.3',\n",
       " 'C3.4',\n",
       " 'C3.5',\n",
       " 'C3.6',\n",
       " 'C3.7',\n",
       " 'C3.8',\n",
       " 'C3.9',\n",
       " 'C4.0',\n",
       " 'C4.1',\n",
       " 'C4.2',\n",
       " 'C4.3',\n",
       " 'C4.4',\n",
       " 'C4.5',\n",
       " 'C4.6',\n",
       " 'C4.7',\n",
       " 'C4.8',\n",
       " 'C4.9',\n",
       " 'C5.0',\n",
       " 'C5.1',\n",
       " 'C5.2',\n",
       " 'C5.3',\n",
       " 'C5.4',\n",
       " 'C5.5',\n",
       " 'C5.6',\n",
       " 'C5.7',\n",
       " 'C5.8',\n",
       " 'C5.9',\n",
       " 'C6.0',\n",
       " 'C6.1',\n",
       " 'C6.2',\n",
       " 'C6.3',\n",
       " 'C6.4',\n",
       " 'C6.5',\n",
       " 'C6.6',\n",
       " 'C6.7',\n",
       " 'C6.9',\n",
       " 'C7.0',\n",
       " 'C7.1',\n",
       " 'C7.2',\n",
       " 'C7.3',\n",
       " 'C7.5',\n",
       " 'C7.6',\n",
       " 'C7.7',\n",
       " 'C7.8',\n",
       " 'C7.9',\n",
       " 'C8.3',\n",
       " 'C8.4',\n",
       " 'C8.5',\n",
       " 'C8.6',\n",
       " 'C8.7',\n",
       " 'C8.8',\n",
       " 'C8.9',\n",
       " 'C9.0',\n",
       " 'C9.1',\n",
       " 'C9.2',\n",
       " 'C9.3',\n",
       " 'C9.4',\n",
       " 'C9.5',\n",
       " 'C9.6',\n",
       " 'C9.9',\n",
       " 'M1.0',\n",
       " 'M1.1',\n",
       " 'M1.2',\n",
       " 'M1.3',\n",
       " 'M1.4',\n",
       " 'M1.5',\n",
       " 'M1.6',\n",
       " 'M1.7',\n",
       " 'M1.8',\n",
       " 'M1.9',\n",
       " 'M2.0',\n",
       " 'M2.1',\n",
       " 'M2.2',\n",
       " 'M2.3',\n",
       " 'M2.4',\n",
       " 'M2.5',\n",
       " 'M2.6',\n",
       " 'M2.7',\n",
       " 'M2.8',\n",
       " 'M3.0',\n",
       " 'M3.1',\n",
       " 'M3.2',\n",
       " 'M3.5',\n",
       " 'M3.7',\n",
       " 'M3.9',\n",
       " 'M4.0',\n",
       " 'M4.2',\n",
       " 'M4.3',\n",
       " 'M4.4',\n",
       " 'M5.3',\n",
       " 'M5.8',\n",
       " 'M6.0',\n",
       " 'M6.7',\n",
       " 'M7.1',\n",
       " 'M7.4',\n",
       " 'M9.3',\n",
       " 'X1.4',\n",
       " 'X1.5',\n",
       " 'X1.8',\n",
       " 'X1.9',\n",
       " 'X2.1',\n",
       " 'X6.9'}"
      ]
     },
     "execution_count": 30,
     "metadata": {},
     "output_type": "execute_result"
    }
   ],
   "source": [
    "set(goes_data_all.goes_class)"
   ]
  },
  {
   "cell_type": "code",
   "execution_count": 28,
   "metadata": {
    "collapsed": false
   },
   "outputs": [
    {
     "ename": "AttributeError",
     "evalue": "'module' object has no attribute 'flareclass_to_flux'",
     "output_type": "error",
     "traceback": [
      "\u001b[1;31m---------------------------------------------------------------------------\u001b[0m",
      "\u001b[1;31mAttributeError\u001b[0m                            Traceback (most recent call last)",
      "\u001b[1;32m<ipython-input-28-f5efa36d660a>\u001b[0m in \u001b[0;36m<module>\u001b[1;34m()\u001b[0m\n\u001b[1;32m----> 1\u001b[1;33m \u001b[0mgoes_data_all\u001b[0m\u001b[1;33m[\u001b[0m\u001b[1;34m'flux'\u001b[0m\u001b[1;33m]\u001b[0m \u001b[1;33m=\u001b[0m \u001b[0mgoes_data_all\u001b[0m\u001b[1;33m.\u001b[0m\u001b[0mgoes_class\u001b[0m\u001b[1;33m.\u001b[0m\u001b[0mapply\u001b[0m\u001b[1;33m(\u001b[0m\u001b[1;32mlambda\u001b[0m \u001b[0mx\u001b[0m\u001b[1;33m:\u001b[0m \u001b[0mgoes\u001b[0m\u001b[1;33m.\u001b[0m\u001b[0mflareclass_to_flux\u001b[0m\u001b[1;33m(\u001b[0m\u001b[0mx\u001b[0m\u001b[1;33m)\u001b[0m\u001b[1;33m)\u001b[0m\u001b[1;33m\u001b[0m\u001b[0m\n\u001b[0m",
      "\u001b[1;32m/home/norman/anaconda2/lib/python2.7/site-packages/pandas/core/series.pyc\u001b[0m in \u001b[0;36mapply\u001b[1;34m(self, func, convert_dtype, args, **kwds)\u001b[0m\n\u001b[0;32m   2167\u001b[0m             \u001b[0mvalues\u001b[0m \u001b[1;33m=\u001b[0m \u001b[0mlib\u001b[0m\u001b[1;33m.\u001b[0m\u001b[0mmap_infer\u001b[0m\u001b[1;33m(\u001b[0m\u001b[0mvalues\u001b[0m\u001b[1;33m,\u001b[0m \u001b[0mlib\u001b[0m\u001b[1;33m.\u001b[0m\u001b[0mTimestamp\u001b[0m\u001b[1;33m)\u001b[0m\u001b[1;33m\u001b[0m\u001b[0m\n\u001b[0;32m   2168\u001b[0m \u001b[1;33m\u001b[0m\u001b[0m\n\u001b[1;32m-> 2169\u001b[1;33m         \u001b[0mmapped\u001b[0m \u001b[1;33m=\u001b[0m \u001b[0mlib\u001b[0m\u001b[1;33m.\u001b[0m\u001b[0mmap_infer\u001b[0m\u001b[1;33m(\u001b[0m\u001b[0mvalues\u001b[0m\u001b[1;33m,\u001b[0m \u001b[0mf\u001b[0m\u001b[1;33m,\u001b[0m \u001b[0mconvert\u001b[0m\u001b[1;33m=\u001b[0m\u001b[0mconvert_dtype\u001b[0m\u001b[1;33m)\u001b[0m\u001b[1;33m\u001b[0m\u001b[0m\n\u001b[0m\u001b[0;32m   2170\u001b[0m         \u001b[1;32mif\u001b[0m \u001b[0mlen\u001b[0m\u001b[1;33m(\u001b[0m\u001b[0mmapped\u001b[0m\u001b[1;33m)\u001b[0m \u001b[1;32mand\u001b[0m \u001b[0misinstance\u001b[0m\u001b[1;33m(\u001b[0m\u001b[0mmapped\u001b[0m\u001b[1;33m[\u001b[0m\u001b[1;36m0\u001b[0m\u001b[1;33m]\u001b[0m\u001b[1;33m,\u001b[0m \u001b[0mSeries\u001b[0m\u001b[1;33m)\u001b[0m\u001b[1;33m:\u001b[0m\u001b[1;33m\u001b[0m\u001b[0m\n\u001b[0;32m   2171\u001b[0m             \u001b[1;32mfrom\u001b[0m \u001b[0mpandas\u001b[0m\u001b[1;33m.\u001b[0m\u001b[0mcore\u001b[0m\u001b[1;33m.\u001b[0m\u001b[0mframe\u001b[0m \u001b[1;32mimport\u001b[0m \u001b[0mDataFrame\u001b[0m\u001b[1;33m\u001b[0m\u001b[0m\n",
      "\u001b[1;32mpandas/src/inference.pyx\u001b[0m in \u001b[0;36mpandas.lib.map_infer (pandas/lib.c:62578)\u001b[1;34m()\u001b[0m\n",
      "\u001b[1;32m<ipython-input-28-f5efa36d660a>\u001b[0m in \u001b[0;36m<lambda>\u001b[1;34m(x)\u001b[0m\n\u001b[1;32m----> 1\u001b[1;33m \u001b[0mgoes_data_all\u001b[0m\u001b[1;33m[\u001b[0m\u001b[1;34m'flux'\u001b[0m\u001b[1;33m]\u001b[0m \u001b[1;33m=\u001b[0m \u001b[0mgoes_data_all\u001b[0m\u001b[1;33m.\u001b[0m\u001b[0mgoes_class\u001b[0m\u001b[1;33m.\u001b[0m\u001b[0mapply\u001b[0m\u001b[1;33m(\u001b[0m\u001b[1;32mlambda\u001b[0m \u001b[0mx\u001b[0m\u001b[1;33m:\u001b[0m \u001b[0mgoes\u001b[0m\u001b[1;33m.\u001b[0m\u001b[0mflareclass_to_flux\u001b[0m\u001b[1;33m(\u001b[0m\u001b[0mx\u001b[0m\u001b[1;33m)\u001b[0m\u001b[1;33m)\u001b[0m\u001b[1;33m\u001b[0m\u001b[0m\n\u001b[0m",
      "\u001b[1;31mAttributeError\u001b[0m: 'module' object has no attribute 'flareclass_to_flux'"
     ]
    }
   ],
   "source": [
    "goes_data_all['flux'] = goes_data_all.goes_class.apply(lambda x: goes.flareclass_to_flux(x))"
   ]
  },
  {
   "cell_type": "code",
   "execution_count": 16,
   "metadata": {
    "collapsed": false
   },
   "outputs": [
    {
     "data": {
      "text/plain": [
       "1.2e-06"
      ]
     },
     "execution_count": 16,
     "metadata": {},
     "output_type": "execute_result"
    }
   ],
   "source": [
    "flux_unit = ' W / m2'\n",
    "test_val = float(test_val.replace(flux_unit, ''))\n",
    "test_val"
   ]
  },
  {
   "cell_type": "code",
   "execution_count": 20,
   "metadata": {
    "collapsed": false
   },
   "outputs": [
    {
     "data": {
      "text/plain": [
       "1.2e-05"
      ]
     },
     "execution_count": 20,
     "metadata": {},
     "output_type": "execute_result"
    }
   ],
   "source": [
    "test_val*10"
   ]
  },
  {
   "cell_type": "code",
   "execution_count": 8,
   "metadata": {
    "collapsed": false
   },
   "outputs": [],
   "source": [
    "# goes_data_all.groupby(['noaa_active_region'])[['flux']].median()"
   ]
  },
  {
   "cell_type": "markdown",
   "metadata": {
    "collapsed": true
   },
   "source": [
    "# Group data from SDO"
   ]
  },
  {
   "cell_type": "code",
   "execution_count": null,
   "metadata": {
    "collapsed": true
   },
   "outputs": [],
   "source": [
    "AR_data_all = pd.DataFrame()\n",
    "for d in xrange(len(date_values) - 1):\n",
    "    # Get FL data from GOES\n",
    "    AR_data = pd.DataFrame.from_csv('{0}SDO-AR-{1}.csv'.format(directory, str(date_values[d].to_period('M'))))\n",
    "    AR_data_all = AR_data_all.append(AR_data, ignore_index=True)\n",
    "    print \"Done FL, {0}\".format(str(date_values[d].to_period('M')))\n",
    "    "
   ]
  },
  {
   "cell_type": "code",
   "execution_count": null,
   "metadata": {
    "collapsed": true
   },
   "outputs": [],
   "source": []
  },
  {
   "cell_type": "code",
   "execution_count": null,
   "metadata": {
    "collapsed": true
   },
   "outputs": [],
   "source": []
  }
 ],
 "metadata": {
  "kernelspec": {
   "display_name": "Python 2",
   "language": "python",
   "name": "python2"
  },
  "language_info": {
   "codemirror_mode": {
    "name": "ipython",
    "version": 2
   },
   "file_extension": ".py",
   "mimetype": "text/x-python",
   "name": "python",
   "nbconvert_exporter": "python",
   "pygments_lexer": "ipython2",
   "version": "2.7.12"
  }
 },
 "nbformat": 4,
 "nbformat_minor": 0
}
