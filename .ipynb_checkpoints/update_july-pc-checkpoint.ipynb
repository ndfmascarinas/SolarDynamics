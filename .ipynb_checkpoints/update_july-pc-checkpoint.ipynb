{
 "cells": [
  {
   "cell_type": "code",
   "execution_count": 1,
   "metadata": {
    "collapsed": false
   },
   "outputs": [],
   "source": [
    "image_types = {\n",
    "               \n",
    "#     'AIA': ['94', '131', '171', '193', '211', '304', '335', '1600', '1700'],\n",
    "#      'AIA': ['171'],\n",
    "    'HMI': ['intensity']\n",
    "\n",
    "#     'HMI': ['los_magnetic_field', 'intensity']\n",
    "}"
   ]
  },
  {
   "cell_type": "code",
   "execution_count": 2,
   "metadata": {
    "collapsed": false
   },
   "outputs": [
    {
     "name": "stdout",
     "output_type": "stream",
     "text": [
      "HMI_intensity\n"
     ]
    }
   ],
   "source": [
    "for instrument, instrument_subtype in image_types.iteritems():\n",
    "    for imtype in instrument_subtype:\n",
    "        if type(imtype)==int:\n",
    "            print instrument + '_' + str(imtype)\n",
    "        else:\n",
    "            print instrument + '_' + imtype"
   ]
  },
  {
   "cell_type": "code",
   "execution_count": 3,
   "metadata": {
    "collapsed": false
   },
   "outputs": [
    {
     "name": "stderr",
     "output_type": "stream",
     "text": [
      "C:\\Users\\Akared\\Anaconda\\lib\\site-packages\\pandas\\computation\\__init__.py:19: UserWarning: The installed version of numexpr 2.4.4 is not supported in pandas and will be not be used\n",
      "\n",
      "  UserWarning)\n"
     ]
    }
   ],
   "source": [
    "from sunpy.net import vso"
   ]
  },
  {
   "cell_type": "code",
   "execution_count": 16,
   "metadata": {
    "collapsed": false
   },
   "outputs": [],
   "source": [
    "from sunpy.net.vso import VSOClient\n",
    "import pytz\n",
    "import os\n",
    "from datetime import datetime\n",
    "client = VSOClient()\n",
    "import pandas as pd\n",
    "from datetime import timedelta\n"
   ]
  },
  {
   "cell_type": "code",
   "execution_count": 24,
   "metadata": {
    "collapsed": true
   },
   "outputs": [],
   "source": [
    "import astropy.units as u"
   ]
  },
  {
   "cell_type": "code",
   "execution_count": 27,
   "metadata": {
    "collapsed": false
   },
   "outputs": [
    {
     "data": {
      "text/plain": [
       "astropy.units.quantity.Quantity"
      ]
     },
     "execution_count": 27,
     "metadata": {},
     "output_type": "execute_result"
    }
   ],
   "source": [
    "type(6*u.s)"
   ]
  },
  {
   "cell_type": "code",
   "execution_count": 5,
   "metadata": {
    "collapsed": false
   },
   "outputs": [],
   "source": [
    "main_folder_name = '2016-07-31'\n",
    "directory = 'F:\\Research/Data/{0}'.format(main_folder_name)"
   ]
  },
  {
   "cell_type": "code",
   "execution_count": 6,
   "metadata": {
    "collapsed": false
   },
   "outputs": [],
   "source": [
    "\n",
    "tstart='2016-01-01 00:00:00'\n",
    "tend='2016-02-01 00:00:00'\n",
    "sampling_time=3600"
   ]
  },
  {
   "cell_type": "code",
   "execution_count": 7,
   "metadata": {
    "collapsed": false
   },
   "outputs": [],
   "source": [
    "directory = 'F:\\Research/Data/{0}'.format(main_folder_name)\n",
    "if not os.path.exists(directory):\n",
    "    os.makedirs(directory)"
   ]
  },
  {
   "cell_type": "code",
   "execution_count": 8,
   "metadata": {
    "collapsed": false
   },
   "outputs": [],
   "source": [
    "def create_subdir(directory, instrument, imtype, date_start):\n",
    "    subdirectory = instrument + '_' + imtype\n",
    "    new_dir = directory + '/' + subdirectory\n",
    "    if not os.path.exists(new_dir):\n",
    "        new_dir = new_dir + '/' + date_start\n",
    "        os.makedirs(new_dir)\n",
    "        return new_dir\n",
    "    new_dir = new_dir + '/' + date_start\n",
    "    return new_dir"
   ]
  },
  {
   "cell_type": "code",
   "execution_count": 9,
   "metadata": {
    "collapsed": true
   },
   "outputs": [],
   "source": [
    "query_params = open((directory+\"/query_params.txt\"), \"w\")\n",
    "query_params.write(\"tstart= \"+tstart+\"\\n\")\n",
    "query_params.write(\"tend= \"+tend+\"\\n\")\n",
    "query_params.write(\"sampling_time= \"+str(sampling_time)+\"\\n\")\n",
    "query_params.close()"
   ]
  },
  {
   "cell_type": "code",
   "execution_count": null,
   "metadata": {
    "collapsed": false
   },
   "outputs": [],
   "source": [
    "date_values = list(pd.date_range(pd.Timestamp(tstart),\n",
    "                            pd.Timestamp(tend),\n",
    "                            freq='7D', normalize=True).values)\n",
    "date_range = []\n",
    "for i in date_values:\n",
    "    date_range.append(str(i)[:10])\n",
    "date_range.append(tend[:10])\n",
    "\n",
    "index_resume = 1\n",
    "# for date_start, date_end in zip(date_range[:-1], date_range[1:]):\n",
    "\n",
    "for date_start, date_end in zip(date_range[index_resume:-1], date_range[(index_resume+1):]):\n",
    "\n",
    "    for instrument, instrument_subtype in image_types.iteritems():\n",
    "        for imtype in instrument_subtype:\n",
    "            print instrument + '_' + imtype + '_' + date_start\n",
    "            if instrument=='AIA':\n",
    "                new_dir = create_subdir(directory, instrument, imtype, date_start)\n",
    "                query_response = client.query_legacy(tstart=date_start, tend=date_end, instrument='AIA', wave=imtype, \n",
    "                                                     sample=sampling_time*4, resolution='0.5')\n",
    "            else:\n",
    "                new_dir = create_subdir(directory, instrument, imtype, date_start)\n",
    "                query_response = client.query_legacy(tstart=date_start, tend=date_end, instrument='HMI', physobs=imtype, \n",
    "                                                     sample=sampling_time*4, resolution='0.5')\n",
    "            query_response.sort(key=lambda x: x.time.start)\n",
    "            results = client.get(query_response, path=(new_dir+'/{file}'), site='rob')\n",
    "            files = results.wait()"
   ]
  },
  {
   "cell_type": "code",
   "execution_count": 33,
   "metadata": {
    "collapsed": false
   },
   "outputs": [
    {
     "data": {
      "text/html": [
       "&lt;Table length=42&gt;\n",
       "<table id=\"table199547200\">\n",
       "<thead><tr><th>Start Time [1]</th><th>End Time [1]</th><th>Source</th><th>Instrument</th><th>Type</th></tr></thead>\n",
       "<thead><tr><th>str19</th><th>str19</th><th>str3</th><th>str3</th><th>str8</th></tr></thead>\n",
       "<tr><td>2016-01-01 00:00:23</td><td>2016-01-01 00:00:24</td><td>SDO</td><td>HMI</td><td>FULLDISK</td></tr>\n",
       "<tr><td>2016-01-01 04:00:23</td><td>2016-01-01 04:00:24</td><td>SDO</td><td>HMI</td><td>FULLDISK</td></tr>\n",
       "<tr><td>2016-01-01 08:00:23</td><td>2016-01-01 08:00:24</td><td>SDO</td><td>HMI</td><td>FULLDISK</td></tr>\n",
       "<tr><td>2016-01-01 12:00:23</td><td>2016-01-01 12:00:24</td><td>SDO</td><td>HMI</td><td>FULLDISK</td></tr>\n",
       "<tr><td>2016-01-01 16:00:23</td><td>2016-01-01 16:00:24</td><td>SDO</td><td>HMI</td><td>FULLDISK</td></tr>\n",
       "<tr><td>2016-01-01 20:00:23</td><td>2016-01-01 20:00:24</td><td>SDO</td><td>HMI</td><td>FULLDISK</td></tr>\n",
       "<tr><td>2016-01-02 00:00:23</td><td>2016-01-02 00:00:24</td><td>SDO</td><td>HMI</td><td>FULLDISK</td></tr>\n",
       "<tr><td>2016-01-02 04:00:23</td><td>2016-01-02 04:00:24</td><td>SDO</td><td>HMI</td><td>FULLDISK</td></tr>\n",
       "<tr><td>2016-01-02 08:00:23</td><td>2016-01-02 08:00:24</td><td>SDO</td><td>HMI</td><td>FULLDISK</td></tr>\n",
       "<tr><td>2016-01-02 12:00:23</td><td>2016-01-02 12:00:24</td><td>SDO</td><td>HMI</td><td>FULLDISK</td></tr>\n",
       "<tr><td>...</td><td>...</td><td>...</td><td>...</td><td>...</td></tr>\n",
       "<tr><td>2016-01-06 08:00:23</td><td>2016-01-06 08:00:24</td><td>SDO</td><td>HMI</td><td>FULLDISK</td></tr>\n",
       "<tr><td>2016-01-06 12:00:23</td><td>2016-01-06 12:00:24</td><td>SDO</td><td>HMI</td><td>FULLDISK</td></tr>\n",
       "<tr><td>2016-01-06 16:01:53</td><td>2016-01-06 16:01:54</td><td>SDO</td><td>HMI</td><td>FULLDISK</td></tr>\n",
       "<tr><td>2016-01-06 20:00:23</td><td>2016-01-06 20:00:24</td><td>SDO</td><td>HMI</td><td>FULLDISK</td></tr>\n",
       "<tr><td>2016-01-07 00:00:23</td><td>2016-01-07 00:00:24</td><td>SDO</td><td>HMI</td><td>FULLDISK</td></tr>\n",
       "<tr><td>2016-01-07 04:00:23</td><td>2016-01-07 04:00:24</td><td>SDO</td><td>HMI</td><td>FULLDISK</td></tr>\n",
       "<tr><td>2016-01-07 08:00:23</td><td>2016-01-07 08:00:24</td><td>SDO</td><td>HMI</td><td>FULLDISK</td></tr>\n",
       "<tr><td>2016-01-07 12:00:23</td><td>2016-01-07 12:00:24</td><td>SDO</td><td>HMI</td><td>FULLDISK</td></tr>\n",
       "<tr><td>2016-01-07 16:00:23</td><td>2016-01-07 16:00:24</td><td>SDO</td><td>HMI</td><td>FULLDISK</td></tr>\n",
       "<tr><td>2016-01-07 20:00:23</td><td>2016-01-07 20:00:24</td><td>SDO</td><td>HMI</td><td>FULLDISK</td></tr>\n",
       "</table>"
      ],
      "text/plain": [
       "<Table length=42>\n",
       "   Start Time [1]       End Time [1]    Source Instrument   Type  \n",
       "       str19               str19         str3     str3      str8  \n",
       "------------------- ------------------- ------ ---------- --------\n",
       "2016-01-01 00:00:23 2016-01-01 00:00:24    SDO        HMI FULLDISK\n",
       "2016-01-01 04:00:23 2016-01-01 04:00:24    SDO        HMI FULLDISK\n",
       "2016-01-01 08:00:23 2016-01-01 08:00:24    SDO        HMI FULLDISK\n",
       "2016-01-01 12:00:23 2016-01-01 12:00:24    SDO        HMI FULLDISK\n",
       "2016-01-01 16:00:23 2016-01-01 16:00:24    SDO        HMI FULLDISK\n",
       "2016-01-01 20:00:23 2016-01-01 20:00:24    SDO        HMI FULLDISK\n",
       "2016-01-02 00:00:23 2016-01-02 00:00:24    SDO        HMI FULLDISK\n",
       "2016-01-02 04:00:23 2016-01-02 04:00:24    SDO        HMI FULLDISK\n",
       "2016-01-02 08:00:23 2016-01-02 08:00:24    SDO        HMI FULLDISK\n",
       "2016-01-02 12:00:23 2016-01-02 12:00:24    SDO        HMI FULLDISK\n",
       "                ...                 ...    ...        ...      ...\n",
       "2016-01-06 08:00:23 2016-01-06 08:00:24    SDO        HMI FULLDISK\n",
       "2016-01-06 12:00:23 2016-01-06 12:00:24    SDO        HMI FULLDISK\n",
       "2016-01-06 16:01:53 2016-01-06 16:01:54    SDO        HMI FULLDISK\n",
       "2016-01-06 20:00:23 2016-01-06 20:00:24    SDO        HMI FULLDISK\n",
       "2016-01-07 00:00:23 2016-01-07 00:00:24    SDO        HMI FULLDISK\n",
       "2016-01-07 04:00:23 2016-01-07 04:00:24    SDO        HMI FULLDISK\n",
       "2016-01-07 08:00:23 2016-01-07 08:00:24    SDO        HMI FULLDISK\n",
       "2016-01-07 12:00:23 2016-01-07 12:00:24    SDO        HMI FULLDISK\n",
       "2016-01-07 16:00:23 2016-01-07 16:00:24    SDO        HMI FULLDISK\n",
       "2016-01-07 20:00:23 2016-01-07 20:00:24    SDO        HMI FULLDISK"
      ]
     },
     "execution_count": 33,
     "metadata": {},
     "output_type": "execute_result"
    }
   ],
   "source": [
    "# client = vso.VSOClient()\n",
    "# query_response = client.query(\n",
    "#     vso.attrs.Time(date_start, date_end),\n",
    "#     vso.attrs.Instrument('hmi'),\n",
    "#     vso.attrs.Physobs('intensity'),\n",
    "#     vso.attrs.Sample(3600*4*u.s),\n",
    "#     vso.attrs.Resolution('2')\n",
    "# )\n",
    "# query_response.sort(key=lambda x: x.time.start)\n",
    "# query_response"
   ]
  },
  {
   "cell_type": "code",
   "execution_count": null,
   "metadata": {
    "collapsed": false
   },
   "outputs": [],
   "source": [
    "print date_start\n",
    "print date_end\n",
    "query_response = client.query_legacy(tstart=date_start, tend=date_end, instrument='HMI', physobs='intensity', \n",
    "                                                     sample=sampling_time*4, resolution='0.5')\n",
    "query_response"
   ]
  },
  {
   "cell_type": "code",
   "execution_count": 67,
   "metadata": {
    "collapsed": false
   },
   "outputs": [
    {
     "name": "stdout",
     "output_type": "stream",
     "text": [
      "326\n",
      "163\n",
      "336\n",
      "168\n",
      "329\n",
      "164\n",
      "336\n",
      "168\n",
      "144\n",
      "72\n"
     ]
    }
   ],
   "source": [
    "# for date_start, date_end in zip(date_range[:-1], date_range[1:]):\n",
    "#     query_response = client.query_legacy(tstart=date_start, tend=date_end, instrument='HMI', physobs='intensity', \n",
    "#                                                      sample=sampling_time/2, resolution='0.25')\n",
    "#     print len(query_response)\n",
    "#     print len(query_response)/2"
   ]
  }
 ],
 "metadata": {
  "kernelspec": {
   "display_name": "Python 2",
   "language": "python",
   "name": "python2"
  },
  "language_info": {
   "codemirror_mode": {
    "name": "ipython",
    "version": 2
   },
   "file_extension": ".py",
   "mimetype": "text/x-python",
   "name": "python",
   "nbconvert_exporter": "python",
   "pygments_lexer": "ipython2",
   "version": "2.7.11"
  }
 },
 "nbformat": 4,
 "nbformat_minor": 0
}
