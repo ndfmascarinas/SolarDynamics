{
 "cells": [
  {
   "cell_type": "code",
   "execution_count": null,
   "metadata": {
    "collapsed": false
   },
   "outputs": [],
   "source": [
    "%matplotlib inline"
   ]
  },
  {
   "cell_type": "markdown",
   "metadata": {},
   "source": [
    "\n",
    "# Extrapolating HMI Data\n",
    "\n",
    "\n",
    "In this example you will be downloading boundary data from VSO, extrapolating\n",
    "using the potential extrapolator and visualising in MayaVi.\n"
   ]
  },
  {
   "cell_type": "markdown",
   "metadata": {},
   "source": [
    "You start by importing the necessary modules.\n"
   ]
  },
  {
   "cell_type": "code",
   "execution_count": 1,
   "metadata": {
    "collapsed": false
   },
   "outputs": [
    {
     "name": "stderr",
     "output_type": "stream",
     "text": [
      "C:\\Anaconda\\lib\\site-packages\\glymur\\lib\\config.py:151: UserWarning: Neither the openjp2 nor the openjpeg library could be loaded.  \n",
      "  warnings.warn(msg)\n"
     ]
    },
    {
     "ename": "ImportError",
     "evalue": "No module named mayavi",
     "output_type": "error",
     "traceback": [
      "\u001b[1;31m---------------------------------------------------------------------------\u001b[0m",
      "\u001b[1;31mImportError\u001b[0m                               Traceback (most recent call last)",
      "\u001b[1;32m<ipython-input-1-3c5234794371>\u001b[0m in \u001b[0;36m<module>\u001b[1;34m()\u001b[0m\n\u001b[0;32m      4\u001b[0m \u001b[1;32mfrom\u001b[0m \u001b[0msunpy\u001b[0m\u001b[1;33m.\u001b[0m\u001b[0mnet\u001b[0m \u001b[1;32mimport\u001b[0m \u001b[0mvso\u001b[0m\u001b[1;33m\u001b[0m\u001b[0m\n\u001b[0;32m      5\u001b[0m \u001b[1;32mfrom\u001b[0m \u001b[0mastropy\u001b[0m \u001b[1;32mimport\u001b[0m \u001b[0munits\u001b[0m \u001b[1;32mas\u001b[0m \u001b[0mu\u001b[0m\u001b[1;33m\u001b[0m\u001b[0m\n\u001b[1;32m----> 6\u001b[1;33m \u001b[1;32mfrom\u001b[0m \u001b[0mmayavi\u001b[0m \u001b[1;32mimport\u001b[0m \u001b[0mmlab\u001b[0m \u001b[1;31m# Necessary for visulisation\u001b[0m\u001b[1;33m\u001b[0m\u001b[0m\n\u001b[0m\u001b[0;32m      7\u001b[0m \u001b[1;32mimport\u001b[0m \u001b[0mos\u001b[0m\u001b[1;33m\u001b[0m\u001b[0m\n\u001b[0;32m      8\u001b[0m \u001b[1;33m\u001b[0m\u001b[0m\n",
      "\u001b[1;31mImportError\u001b[0m: No module named mayavi"
     ]
    }
   ],
   "source": [
    "# General imports\n",
    "import numpy as np\n",
    "import sunpy.map as mp\n",
    "from sunpy.net import vso\n",
    "from astropy import units as u\n",
    "from mayavi import mlab # Necessary for visulisation\n",
    "import os\n",
    "\n",
    "# Module imports\n",
    "from solarbextrapolation.map3dclasses import Map3D\n",
    "from solarbextrapolation.extrapolators import PotentialExtrapolator\n",
    "from solarbextrapolation.visualisation_functions import visualise"
   ]
  },
  {
   "cell_type": "markdown",
   "metadata": {},
   "source": [
    "You will retrieve the boundary data from the VSO using the SunPy VSO client.\n",
    "In this case we will retrieve an SDO HMI line-of-sight magnetogram that was\n",
    "made on the 14th of February 2011, as used in Sun et al (2012).\n"
   ]
  },
  {
   "cell_type": "code",
   "execution_count": null,
   "metadata": {
    "collapsed": false
   },
   "outputs": [],
   "source": [
    "# Create a new VSOClient instance\n",
    "client = vso.VSOClient()\n",
    "\n",
    "# Build the query, this can return one item, or a list of them to DL matching\n",
    "# the given filters.\n",
    "result_hmi = client.query(\n",
    "    # The following are filters for collecting the desired data.\n",
    "    vso.attrs.Time((2011, 2, 14, 20, 34, 0), (2011, 2, 14, 21, 0, 0)), # Time range.\n",
    "    vso.attrs.Instrument('HMI'),               # Helioseismic and Magnetic Imager.\n",
    "    vso.attrs.Physobs('LOS_magnetic_field'),   # Physical observables\n",
    "    vso.attrs.Sample(4000 * u.s)               # Only take a shot every $var seconds.\n",
    "    # More observables at http://sdac.virtualsolar.org/cgi/show_details?keyword=PHYSOBS\n",
    ")\n",
    "\n",
    "# Save the results to fits files. (Using Rice compression if possible)\n",
    "data_hmi = client.get(result_hmi, methods=('URL-FILE_Rice', 'URL-FILE')).wait()"
   ]
  },
  {
   "cell_type": "markdown",
   "metadata": {},
   "source": [
    "You may also decide to get the corrisponding SDO AIA data showing the EUV\n",
    "image at the same time, this can be used to see the flux tubes for comparrison\n",
    "to the vector field streamlines for visulisation.\n"
   ]
  },
  {
   "cell_type": "code",
   "execution_count": null,
   "metadata": {
    "collapsed": false
   },
   "outputs": [],
   "source": [
    "# Query VSO.\n",
    "result_aia = client.query(\n",
    "    vso.attrs.Time((2011, 2, 14, 20, 34, 0), (2011, 2, 14, 21, 0, 0)), # Time range.\n",
    "    vso.attrs.Instrument('AIA'),    # Helioseismic and Magnetic Imager.\n",
    "    vso.attrs.Physobs('intensity'), # Physical observables\n",
    "    vso.attrs.Sample(4000 * u.s)    # Only take a shot every $var seconds.\n",
    "    # More observables at http://sdac.virtualsolar.org/cgi/show_details?keyword=PHYSOBS\n",
    ")\n",
    "\n",
    "# Save the results to fits files. (Using Rice compression if possible)\n",
    "data_aia = client.get(result_aia, methods=('URL-FILE_Rice', 'URL-FILE')).wait()"
   ]
  },
  {
   "cell_type": "markdown",
   "metadata": {},
   "source": [
    "You want to crop on solar-x and solar-y the the active region of interest.\n",
    "Likewise you want to decide on the altertude ranges to extrapolate within.\n",
    "Extrapolators use astropy quantities for ranges, importanmtly these are\n",
    "designed to work with either physical length or angular units, conversion is\n",
    "done using the assumption the boundary data ios on the surface of the sun and\n",
    "following the small angle approximation.\n",
    "In this case we use angular uniits (arcsec specifically) for the zrange\n",
    "quantity, this is physically meaningless, but gives an easy way to ensure\n",
    "your zrange is similar to teh other ranges.\n",
    "We also want extended solar-x and solar-y ranges for plotting the\n"
   ]
  },
  {
   "cell_type": "code",
   "execution_count": null,
   "metadata": {
    "collapsed": false
   },
   "outputs": [],
   "source": [
    "# Cropping into the active region within the HMI map\n",
    "xrange = u.Quantity([50,    300] * u.arcsec)\n",
    "yrange = u.Quantity([-350, -100] * u.arcsec)\n",
    "zrange = u.Quantity([0,     250] * u.arcsec)\n",
    "\n",
    "# Open the map and create a cropped version for the extrapolation.\n",
    "map_hmi = mp.Map(data_hmi[0])\n",
    "map_hmi_cropped = map_hmi.submap(xrange, yrange)"
   ]
  },
  {
   "cell_type": "markdown",
   "metadata": {},
   "source": [
    "If your boundary data has a high resolution then you may need to resample to\n",
    "ensure it extrapolates within a reasonable timeframe.\n"
   ]
  },
  {
   "cell_type": "code",
   "execution_count": null,
   "metadata": {
    "collapsed": false
   },
   "outputs": [],
   "source": [
    "# Resample boundary data map\n",
    "shape = u.Quantity([20, 20] * u.pixel)\n",
    "map_hmi_cropped_resampled = map_hmi_cropped.resample(shape, method='linear')"
   ]
  },
  {
   "cell_type": "markdown",
   "metadata": {},
   "source": [
    "You can check the resulting generated data by using peek().\n"
   ]
  },
  {
   "cell_type": "code",
   "execution_count": null,
   "metadata": {
    "collapsed": false
   },
   "outputs": [],
   "source": [
    "map_hmi_cropped_resampled.peek()"
   ]
  },
  {
   "cell_type": "markdown",
   "metadata": {},
   "source": [
    "To speed up repeat usage of this script it will save the extrapolation output,\n",
    "you can use os.path.isfile() to check if the file already exists, assuming it\n",
    "doesn't you will extrapolate and create it, otherwise you load it.\n"
   ]
  },
  {
   "cell_type": "code",
   "execution_count": null,
   "metadata": {
    "collapsed": false
   },
   "outputs": [],
   "source": [
    "# Only extrapolate if we don't have a saved version\n",
    "str_vol_filepath = data_hmi[0][0:-5] + '_Bxyz.npy'\n",
    "if not os.path.isfile(str_vol_filepath):\n",
    "    # Create the potential extrapolator and run the extrapolate method.\n",
    "    aPotExt = PotentialExtrapolator(map_hmi_cropped_resampled, filepath=str_vol_filepath, zshape=20, zrange=zrange)\n",
    "    aMap3D = aPotExt.extrapolate()\n",
    "# Load the results.\n",
    "aMap3D = Map3D.load(str_vol_filepath)\n",
    "#print '\\nextrapolation duration: ' + str(np.round(aMap3D.meta['extrapolator_duration'],3)) + ' s\\n'"
   ]
  },
  {
   "cell_type": "markdown",
   "metadata": {},
   "source": [
    "For the perposes of visualisation we will want an extended boundary data, not\n",
    "just that of the extrapolated region, and at the instruments full resolution,\n",
    "not resampled.\n"
   ]
  },
  {
   "cell_type": "code",
   "execution_count": null,
   "metadata": {
    "collapsed": false
   },
   "outputs": [],
   "source": [
    "xrangeextended = u.Quantity([ xrange.value[0] - 50, xrange.value[1] + 50 ] * xrange.unit)\n",
    "yrangeextended = u.Quantity([ yrange.value[0] - 50, yrange.value[1] + 50 ] * yrange.unit)\n",
    "\n",
    "# Open the map and create a cropped version for the visualisation.\n",
    "map_boundary = mp.Map(data_hmi[0])\n",
    "map_boundary_cropped = map_boundary.submap(xrangeextended, yrangeextended)"
   ]
  },
  {
   "cell_type": "markdown",
   "metadata": {},
   "source": [
    "You can now get a quick and easy visualisation using the\n",
    "solarbextrapolation.example_data_generator.visualise tools:\n"
   ]
  },
  {
   "cell_type": "code",
   "execution_count": null,
   "metadata": {
    "collapsed": false
   },
   "outputs": [],
   "source": [
    "# Visualise the 3D vector field\n",
    "visualise(aMap3D, boundary=map_boundary_cropped, scale=1.0*u.Mm, boundary_unit=1.0*u.arcsec, show_boundary_axes=False, show_volume_axes=True, debug=False)\n",
    "mlab.show()"
   ]
  }
 ],
 "metadata": {
  "kernelspec": {
   "display_name": "Python 2",
   "language": "python",
   "name": "python2"
  },
  "language_info": {
   "codemirror_mode": {
    "name": "ipython",
    "version": 2
   },
   "file_extension": ".py",
   "mimetype": "text/x-python",
   "name": "python",
   "nbconvert_exporter": "python",
   "pygments_lexer": "ipython2",
   "version": "2.7.11"
  }
 },
 "nbformat": 4,
 "nbformat_minor": 0
}
