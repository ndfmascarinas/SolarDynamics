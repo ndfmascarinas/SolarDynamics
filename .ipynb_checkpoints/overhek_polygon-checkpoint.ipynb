{
 "cells": [
  {
   "cell_type": "code",
   "execution_count": 1,
   "metadata": {
    "collapsed": false
   },
   "outputs": [],
   "source": [
    "%matplotlib inline"
   ]
  },
  {
   "cell_type": "code",
   "execution_count": null,
   "metadata": {
    "collapsed": false
   },
   "outputs": [
    {
     "name": "stdout",
     "output_type": "stream",
     "text": [
      "Downloading sample files to C:\\Users\\Akared\\sunpy\\data/sample_data\n",
      "Downloading http://data.sunpy.org/sample-data/hsi_calib_ev_20020220_1106_20020220_1106_25_40.fits [Done]\n",
      "Downloading http://data.sunpy.org/sample-data/swap_lv1_20120101_001607.fits"
     ]
    }
   ],
   "source": [
    "sunpy.data.download_sample_data()"
   ]
  },
  {
   "cell_type": "markdown",
   "metadata": {},
   "source": [
    "\n",
    "=====================================================\n",
    "Overplotting HEK feature/event polygons on SunPy maps\n",
    "=====================================================\n",
    "\n",
    "This example shows how to overplot HEK outlines on SunPy maps.\n",
    "\n"
   ]
  },
  {
   "cell_type": "markdown",
   "metadata": {},
   "source": [
    "Start by importing the necessary modules.\n",
    "\n"
   ]
  },
  {
   "cell_type": "code",
   "execution_count": 2,
   "metadata": {
    "collapsed": false
   },
   "outputs": [
    {
     "name": "stderr",
     "output_type": "stream",
     "text": [
      "C:\\Users\\Akared\\Anaconda\\lib\\site-packages\\glymur\\lib\\config.py:151: UserWarning: Neither the openjp2 nor the openjpeg library could be loaded.  \n",
      "  warnings.warn(msg)\n",
      "C:\\Users\\Akared\\Anaconda\\lib\\site-packages\\pandas\\computation\\__init__.py:19: UserWarning: The installed version of numexpr 2.4.4 is not supported in pandas and will be not be used\n",
      "\n",
      "  UserWarning)\n"
     ]
    },
    {
     "ename": "ImportError",
     "evalue": "Sample data file(s) missing. Use sunpy.data.download_sample_data() to get them.",
     "output_type": "error",
     "traceback": [
      "\u001b[1;31m---------------------------------------------------------------------------\u001b[0m",
      "\u001b[1;31mImportError\u001b[0m                               Traceback (most recent call last)",
      "\u001b[1;32m<ipython-input-2-32e258db2b29>\u001b[0m in \u001b[0;36m<module>\u001b[1;34m()\u001b[0m\n\u001b[0;32m      8\u001b[0m \u001b[1;33m\u001b[0m\u001b[0m\n\u001b[0;32m      9\u001b[0m \u001b[1;32mimport\u001b[0m \u001b[0msunpy\u001b[0m\u001b[1;33m.\u001b[0m\u001b[0mmap\u001b[0m\u001b[1;33m\u001b[0m\u001b[0m\n\u001b[1;32m---> 10\u001b[1;33m \u001b[1;32mimport\u001b[0m \u001b[0msunpy\u001b[0m\u001b[1;33m.\u001b[0m\u001b[0mdata\u001b[0m\u001b[1;33m.\u001b[0m\u001b[0msample\u001b[0m\u001b[1;33m\u001b[0m\u001b[0m\n\u001b[0m\u001b[0;32m     11\u001b[0m \u001b[1;32mfrom\u001b[0m \u001b[0msunpy\u001b[0m\u001b[1;33m.\u001b[0m\u001b[0mnet\u001b[0m \u001b[1;32mimport\u001b[0m \u001b[0mhek\u001b[0m\u001b[1;33m\u001b[0m\u001b[0m\n\u001b[0;32m     12\u001b[0m \u001b[1;32mfrom\u001b[0m \u001b[0msunpy\u001b[0m\u001b[1;33m.\u001b[0m\u001b[0mtime\u001b[0m \u001b[1;32mimport\u001b[0m \u001b[0mparse_time\u001b[0m\u001b[1;33m\u001b[0m\u001b[0m\n",
      "\u001b[1;32mc:\\users\\akared\\anaconda\\lib\\site-packages\\sunpy-0.6.1-py2.7.egg\\sunpy\\data\\sample.py\u001b[0m in \u001b[0;36m<module>\u001b[1;34m()\u001b[0m\n\u001b[0;32m     13\u001b[0m         \u001b[0msetattr\u001b[0m\u001b[1;33m(\u001b[0m\u001b[0msys\u001b[0m\u001b[1;33m.\u001b[0m\u001b[0mmodules\u001b[0m\u001b[1;33m[\u001b[0m\u001b[0m__name__\u001b[0m\u001b[1;33m]\u001b[0m\u001b[1;33m,\u001b[0m \u001b[0m_key\u001b[0m\u001b[1;33m,\u001b[0m \u001b[0mos\u001b[0m\u001b[1;33m.\u001b[0m\u001b[0mpath\u001b[0m\u001b[1;33m.\u001b[0m\u001b[0mjoin\u001b[0m\u001b[1;33m(\u001b[0m\u001b[0m_sampledata_dir\u001b[0m\u001b[1;33m,\u001b[0m \u001b[0m_sample_files\u001b[0m\u001b[1;33m[\u001b[0m\u001b[0m_key\u001b[0m\u001b[1;33m]\u001b[0m\u001b[1;33m)\u001b[0m\u001b[1;33m)\u001b[0m\u001b[1;33m\u001b[0m\u001b[0m\n\u001b[0;32m     14\u001b[0m     \u001b[1;32melse\u001b[0m\u001b[1;33m:\u001b[0m\u001b[1;33m\u001b[0m\u001b[0m\n\u001b[1;32m---> 15\u001b[1;33m         \u001b[1;32mraise\u001b[0m \u001b[0mImportError\u001b[0m\u001b[1;33m(\u001b[0m\u001b[1;34m\"Sample data file(s) missing. Use sunpy.data.download_sample_data() to get them.\"\u001b[0m\u001b[1;33m)\u001b[0m\u001b[1;33m\u001b[0m\u001b[0m\n\u001b[0m\u001b[0;32m     16\u001b[0m \u001b[1;33m\u001b[0m\u001b[0m\n\u001b[0;32m     17\u001b[0m \u001b[0mfile_dict\u001b[0m \u001b[1;33m=\u001b[0m \u001b[0m_sample_files\u001b[0m\u001b[1;33m\u001b[0m\u001b[0m\n",
      "\u001b[1;31mImportError\u001b[0m: Sample data file(s) missing. Use sunpy.data.download_sample_data() to get them."
     ]
    }
   ],
   "source": [
    "from __future__ import print_function, division\n",
    "from datetime import timedelta\n",
    "import numpy as np\n",
    "\n",
    "import matplotlib.pyplot as plt\n",
    "from matplotlib import patches\n",
    "from astropy import units as u\n",
    "\n",
    "import sunpy.map\n",
    "import sunpy.data.sample\n",
    "from sunpy.net import hek\n",
    "from sunpy.time import parse_time\n",
    "from sunpy.physics.solar_rotation import rot_hpc"
   ]
  },
  {
   "cell_type": "markdown",
   "metadata": {},
   "source": [
    "Load in an AIA map:\n",
    "\n"
   ]
  },
  {
   "cell_type": "code",
   "execution_count": null,
   "metadata": {
    "collapsed": false
   },
   "outputs": [],
   "source": [
    "aia_map = sunpy.map.Map(sunpy.data.sample.AIA_171_IMAGE)"
   ]
  },
  {
   "cell_type": "markdown",
   "metadata": {},
   "source": [
    "Let's look for sunspots in the HEK close to the time of the AIA map. First\n",
    "create a client:\n",
    "\n"
   ]
  },
  {
   "cell_type": "code",
   "execution_count": null,
   "metadata": {
    "collapsed": false
   },
   "outputs": [],
   "source": [
    "hek_client = hek.HEKClient()"
   ]
  },
  {
   "cell_type": "markdown",
   "metadata": {},
   "source": [
    "Look for coronal holes detected using the SPoCA feature recognition method:\n",
    "\n"
   ]
  },
  {
   "cell_type": "code",
   "execution_count": null,
   "metadata": {
    "collapsed": false
   },
   "outputs": [],
   "source": [
    "start_time = aia_map.date - timedelta(hours=2)\n",
    "end_time = aia_map.date + timedelta(hours=2)\n",
    "responses = hek_client.query(hek.attrs.Time(start_time, end_time), hek.attrs.CH, hek.attrs.FRM.Name == 'SPoCA')"
   ]
  },
  {
   "cell_type": "markdown",
   "metadata": {},
   "source": [
    "Let's find the biggest coronal hole within 60 degrees north/south of the\n",
    "equator:\n",
    "\n"
   ]
  },
  {
   "cell_type": "code",
   "execution_count": null,
   "metadata": {
    "collapsed": false
   },
   "outputs": [],
   "source": [
    "area = 0.0\n",
    "for i, response in enumerate(responses):\n",
    "    if response['area_atdiskcenter'] > area and np.abs(response['hgc_y']) < 60.0:\n",
    "        area = response['area_atdiskcenter']\n",
    "        response_index = i"
   ]
  },
  {
   "cell_type": "markdown",
   "metadata": {},
   "source": [
    "Now let's get the boundary of the coronal hole\n",
    "\n"
   ]
  },
  {
   "cell_type": "code",
   "execution_count": null,
   "metadata": {
    "collapsed": false
   },
   "outputs": [],
   "source": [
    "ch = responses[response_index]\n",
    "p1 = ch[\"hpc_boundcc\"][9: -2]\n",
    "p2 = p1.split(',')\n",
    "p3 = [v.split(\" \") for v in p2]\n",
    "ch_boundary = np.asarray([(eval(v[0]), eval(v[1])) for v in p3])\n",
    "ch_date = parse_time(ch['event_starttime'])"
   ]
  },
  {
   "cell_type": "markdown",
   "metadata": {},
   "source": [
    "The coronal hole was detected at a certain time.  To plot it on a map, we\n",
    "need to rotate it to the map observation time.\n",
    "\n"
   ]
  },
  {
   "cell_type": "code",
   "execution_count": null,
   "metadata": {
    "collapsed": false
   },
   "outputs": [],
   "source": [
    "rotated_boundary = np.zeros_like(ch_boundary)\n",
    "n = ch_boundary.shape[0]\n",
    "for i in range(0, n):\n",
    "    new_coords = rot_hpc(ch_boundary[i, 0] * u.arcsec,\n",
    "                         ch_boundary[i, 1] * u.arcsec,\n",
    "                         ch_date,\n",
    "                         aia_map.date)\n",
    "    rotated_boundary[i, 0] = new_coords[0].value\n",
    "    rotated_boundary[i, 1] = new_coords[1].value"
   ]
  },
  {
   "cell_type": "markdown",
   "metadata": {},
   "source": [
    "Now let's plot the rotated coronal hole boundary on the AIA map.\n",
    "\n"
   ]
  },
  {
   "cell_type": "code",
   "execution_count": null,
   "metadata": {
    "collapsed": false
   },
   "outputs": [],
   "source": [
    "fig = plt.figure()\n",
    "ax = plt.subplot()\n",
    "aia_map.plot()\n",
    "coronal_hole = patches.Polygon(rotated_boundary, color='white', fill=False)\n",
    "ax.set_title('{:s}\\n{:s}'.format(aia_map.name, ch['frm_specificid']))\n",
    "ax.add_artist(coronal_hole)\n",
    "plt.colorbar()\n",
    "plt.tight_layout()"
   ]
  }
 ],
 "metadata": {
  "kernelspec": {
   "display_name": "Python 2",
   "language": "python",
   "name": "python2"
  },
  "language_info": {
   "codemirror_mode": {
    "name": "ipython",
    "version": 2
   },
   "file_extension": ".py",
   "mimetype": "text/x-python",
   "name": "python",
   "nbconvert_exporter": "python",
   "pygments_lexer": "ipython2",
   "version": "2.7.11"
  }
 },
 "nbformat": 4,
 "nbformat_minor": 0
}
