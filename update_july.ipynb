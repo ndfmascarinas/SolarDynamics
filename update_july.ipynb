{
 "metadata": {
  "name": ""
 },
 "nbformat": 3,
 "nbformat_minor": 0,
 "worksheets": [
  {
   "cells": [
    {
     "cell_type": "code",
     "collapsed": false,
     "input": [
      "image_types = {\n",
      "               \n",
      "#     'AIA': ['94', '131', '171', '193', '211', '304', '335', '1600', '1700'],\n",
      "#      'AIA': ['171'],\n",
      "    'HMI': ['intensity']\n",
      "\n",
      "#     'HMI': ['los_magnetic_field', 'intensity']\n",
      "}"
     ],
     "language": "python",
     "metadata": {},
     "outputs": [],
     "prompt_number": 1
    },
    {
     "cell_type": "code",
     "collapsed": false,
     "input": [
      "for instrument, instrument_subtype in image_types.iteritems():\n",
      "    for imtype in instrument_subtype:\n",
      "        if type(imtype)==int:\n",
      "            print instrument + '_' + str(imtype)\n",
      "        else:\n",
      "            print instrument + '_' + imtype"
     ],
     "language": "python",
     "metadata": {},
     "outputs": [
      {
       "output_type": "stream",
       "stream": "stdout",
       "text": [
        "HMI_intensity\n"
       ]
      }
     ],
     "prompt_number": 2
    },
    {
     "cell_type": "code",
     "collapsed": false,
     "input": [
      "from sunpy.net import vso"
     ],
     "language": "python",
     "metadata": {},
     "outputs": [],
     "prompt_number": 3
    },
    {
     "cell_type": "code",
     "collapsed": false,
     "input": [
      "from sunpy.net.vso import VSOClient\n",
      "import pytz\n",
      "import os\n",
      "from datetime import datetime\n",
      "client = VSOClient()"
     ],
     "language": "python",
     "metadata": {},
     "outputs": [],
     "prompt_number": 4
    },
    {
     "cell_type": "code",
     "collapsed": false,
     "input": [
      "main_folder_name = '2016-07-17'\n",
      "directory = 'Research/Data/{0}'.format(main_folder_name)"
     ],
     "language": "python",
     "metadata": {},
     "outputs": [],
     "prompt_number": 5
    },
    {
     "cell_type": "code",
     "collapsed": false,
     "input": [
      "\n",
      "tstart='2016/01/01 00:00:00'\n",
      "tend='2016/02/01 00:00:00'\n",
      "sampling_time=3600"
     ],
     "language": "python",
     "metadata": {},
     "outputs": [],
     "prompt_number": 6
    },
    {
     "cell_type": "code",
     "collapsed": false,
     "input": [
      "directory = '../../Research/Data/{0}'.format(main_folder_name)\n",
      "if not os.path.exists(directory):\n",
      "    os.makedirs(directory)"
     ],
     "language": "python",
     "metadata": {},
     "outputs": [],
     "prompt_number": 7
    },
    {
     "cell_type": "code",
     "collapsed": false,
     "input": [
      "def create_subdir(directory, instrument, imtype):\n",
      "    subdirectory = instrument + '_' + imtype\n",
      "    new_dir = directory + '/' + subdirectory\n",
      "    if not os.path.exists(new_dir):\n",
      "        os.makedirs(new_dir)\n",
      "    return new_dir"
     ],
     "language": "python",
     "metadata": {},
     "outputs": [],
     "prompt_number": 8
    },
    {
     "cell_type": "code",
     "collapsed": false,
     "input": [
      "query_params = open((directory+\"/query_params.txt\"), \"w\")\n",
      "query_params.write(\"tstart= \"+tstart+\"\\n\")\n",
      "query_params.write(\"tend= \"+tend+\"\\n\")\n",
      "query_params.write(\"sampling_time= \"+str(sampling_time)+\"\\n\")\n",
      "query_params.close()\n",
      "\n",
      "for instrument, instrument_subtype in image_types.iteritems():\n",
      "    for imtype in instrument_subtype:\n",
      "        print instrument + '_' + imtype\n",
      "        if instrument=='AIA':\n",
      "            new_dir = create_subdir(directory, instrument, imtype)\n",
      "            query_response = client.query_legacy(tstart=tstart, tend=tend, instrument='AIA', wave=imtype, \n",
      "                                                 sample=sampling_time)\n",
      "        else:\n",
      "            new_dir = create_subdir(directory, instrument, imtype)\n",
      "            query_response = client.query_legacy(tstart=tstart, tend=tend, instrument='HMI', physobs=imtype, \n",
      "                                                 sample=sampling_time)\n",
      "        query_response.sort(key=lambda x: x.time.start)\n",
      "        results = client.get(query_response, path=(new_dir+'/{file}'), site='rob')\n",
      "        files = results.wait()"
     ],
     "language": "python",
     "metadata": {},
     "outputs": [],
     "prompt_number": "*"
    },
    {
     "cell_type": "code",
     "collapsed": false,
     "input": [],
     "language": "python",
     "metadata": {},
     "outputs": []
    },
    {
     "cell_type": "code",
     "collapsed": false,
     "input": [],
     "language": "python",
     "metadata": {},
     "outputs": []
    },
    {
     "cell_type": "code",
     "collapsed": false,
     "input": [],
     "language": "python",
     "metadata": {},
     "outputs": []
    }
   ],
   "metadata": {}
  }
 ]
}