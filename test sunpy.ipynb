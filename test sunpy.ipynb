{
 "cells": [
  {
   "cell_type": "code",
   "execution_count": 1,
   "metadata": {
    "collapsed": false
   },
   "outputs": [],
   "source": [
    "import sunpy"
   ]
  },
  {
   "cell_type": "code",
   "execution_count": null,
   "metadata": {
    "collapsed": false
   },
   "outputs": [
    {
     "name": "stdout",
     "output_type": "stream",
     "text": [
      "\n",
      "============================= test session starts =============================\n",
      "platform win32 -- Python 2.7.11, pytest-2.8.5, py-1.4.31, pluggy-0.3.1\n",
      "rootdir: C:\\Users\\Akared\\Anaconda\\lib\\site-packages\\sunpy-0.6.1-py2.7.egg\\sunpy, inifile: \n"
     ]
    },
    {
     "name": "stderr",
     "output_type": "stream",
     "text": [
      "WARNING:astropy:VerifyWarning: Invalid 'BLANK' keyword in header.  The 'BLANK' keyword is only applicable to integer data, and will be ignored in this HDU.\n"
     ]
    },
    {
     "name": "stdout",
     "output_type": "stream",
     "text": [
      "collected 680 items / 1 errors\n",
      "\n",
      "C:\\Users\\Akared\\Anaconda\\lib\\site-packages\\sunpy-0.6.1-py2.7.egg\\sunpy\\database\\tests\\test_attrs.py .............................\n",
      "C:\\Users\\Akared\\Anaconda\\lib\\site-packages\\sunpy-0.6.1-py2.7.egg\\sunpy\\database\\tests\\test_caching.py ....\n",
      "C:\\Users\\Akared\\Anaconda\\lib\\site-packages\\sunpy-0.6.1-py2.7.egg\\sunpy\\database\\tests\\test_commands.py ...........................\n",
      "C:\\Users\\Akared\\Anaconda\\lib\\site-packages\\sunpy-0.6.1-py2.7.egg\\sunpy\\database\\tests\\test_database.py ..............................."
     ]
    },
    {
     "name": "stderr",
     "output_type": "stream",
     "text": [
      "WARNING:astropy:File may have been truncated: actual file length (3402) is smaller than the expected size (4023360)\n",
      "WARNING:astropy:File may have been truncated: actual file length (5264) is smaller than the expected size (4023360)\n",
      "WARNING:astropy:File may have been truncated: actual file length (5940) is smaller than the expected size (270720)\n",
      "WARNING:astropy:File may have been truncated: actual file length (668032) is smaller than the expected size (16787520)\n"
     ]
    },
    {
     "name": "stdout",
     "output_type": "stream",
     "text": [
      ".................................\n",
      "C:\\Users\\Akared\\Anaconda\\lib\\site-packages\\sunpy-0.6.1-py2.7.egg\\sunpy\\database\\tests\\test_serialize.py ..........................\n",
      "C:\\Users\\Akared\\Anaconda\\lib\\site-packages\\sunpy-0.6.1-py2.7.egg\\sunpy\\database\\tests\\test_table.txt s\n",
      "C:\\Users\\Akared\\Anaconda\\lib\\site-packages\\sunpy-0.6.1-py2.7.egg\\sunpy\\database\\tests\\test_tables.py ........."
     ]
    },
    {
     "name": "stderr",
     "output_type": "stream",
     "text": [
      "WARNING:astropy:File may have been truncated: actual file length (538688) is smaller than the expected size (541440)\n"
     ]
    },
    {
     "name": "stdout",
     "output_type": "stream",
     "text": [
      "......\n",
      "C:\\Users\\Akared\\Anaconda\\lib\\site-packages\\sunpy-0.6.1-py2.7.egg\\sunpy\\image\\tests\\test_coalignment.py ...F.........\n",
      "C:\\Users\\Akared\\Anaconda\\lib\\site-packages\\sunpy-0.6.1-py2.7.egg\\sunpy\\image\\tests\\test_resample.py .....\n",
      "C:\\Users\\Akared\\Anaconda\\lib\\site-packages\\sunpy-0.6.1-py2.7.egg\\sunpy\\image\\tests\\test_transform.py ....."
     ]
    }
   ],
   "source": [
    "sunpy.self_test(online=False)"
   ]
  },
  {
   "cell_type": "code",
   "execution_count": null,
   "metadata": {
    "collapsed": true
   },
   "outputs": [],
   "source": []
  }
 ],
 "metadata": {
  "kernelspec": {
   "display_name": "Python 2",
   "language": "python",
   "name": "python2"
  },
  "language_info": {
   "codemirror_mode": {
    "name": "ipython",
    "version": 2
   },
   "file_extension": ".py",
   "mimetype": "text/x-python",
   "name": "python",
   "nbconvert_exporter": "python",
   "pygments_lexer": "ipython2",
   "version": "2.7.11"
  }
 },
 "nbformat": 4,
 "nbformat_minor": 0
}
